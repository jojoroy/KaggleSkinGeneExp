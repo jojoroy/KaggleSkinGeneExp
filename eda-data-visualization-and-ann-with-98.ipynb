{
 "cells": [
  {
   "cell_type": "code",
   "execution_count": 1,
   "id": "dffbc555",
   "metadata": {
    "_cell_guid": "b1076dfc-b9ad-4769-8c92-a6c4dae69d19",
    "_kg_hide-input": true,
    "_uuid": "8f2839f25d086af736a60e9eeb907d3b93b6e0e5",
    "execution": {
     "iopub.execute_input": "2024-10-21T16:21:47.403054Z",
     "iopub.status.busy": "2024-10-21T16:21:47.402647Z",
     "iopub.status.idle": "2024-10-21T16:21:48.218827Z",
     "shell.execute_reply": "2024-10-21T16:21:48.217564Z"
    },
    "papermill": {
     "duration": 0.836397,
     "end_time": "2024-10-21T16:21:48.221336",
     "exception": false,
     "start_time": "2024-10-21T16:21:47.384939",
     "status": "completed"
    },
    "tags": []
   },
   "outputs": [
    {
     "name": "stdout",
     "output_type": "stream",
     "text": [
      "/kaggle/input/thyroid-disease-data/Thyroid_Diff.csv\n"
     ]
    }
   ],
   "source": [
    "# This Python 3 environment comes with many helpful analytics libraries installed\n",
    "# It is defined by the kaggle/python Docker image: https://github.com/kaggle/docker-python\n",
    "# For example, here's several helpful packages to load\n",
    "\n",
    "import numpy as np # linear algebra\n",
    "import pandas as pd # data processing, CSV file I/O (e.g. pd.read_csv)\n",
    "\n",
    "# Input data files are available in the read-only \"../input/\" directory\n",
    "# For example, running this (by clicking run or pressing Shift+Enter) will list all files under the input directory\n",
    "\n",
    "import os\n",
    "for dirname, _, filenames in os.walk('/kaggle/input'):\n",
    "    for filename in filenames:\n",
    "        print(os.path.join(dirname, filename))\n",
    "\n",
    "# You can write up to 20GB to the current directory (/kaggle/working/) that gets preserved as output when you create a version using \"Save & Run All\" \n",
    "# You can also write temporary files to /kaggle/temp/, but they won't be saved outside of the current session"
   ]
  },
  {
   "cell_type": "markdown",
   "id": "f6f72924",
   "metadata": {
    "papermill": {
     "duration": 0.016176,
     "end_time": "2024-10-21T16:21:48.254234",
     "exception": false,
     "start_time": "2024-10-21T16:21:48.238058",
     "status": "completed"
    },
    "tags": []
   },
   "source": [
    "### Importing the libraries"
   ]
  },
  {
   "cell_type": "code",
   "execution_count": 2,
   "id": "06719a48",
   "metadata": {
    "execution": {
     "iopub.execute_input": "2024-10-21T16:21:48.292046Z",
     "iopub.status.busy": "2024-10-21T16:21:48.291455Z",
     "iopub.status.idle": "2024-10-21T16:22:01.108276Z",
     "shell.execute_reply": "2024-10-21T16:22:01.107146Z"
    },
    "papermill": {
     "duration": 12.839784,
     "end_time": "2024-10-21T16:22:01.111091",
     "exception": false,
     "start_time": "2024-10-21T16:21:48.271307",
     "status": "completed"
    },
    "tags": []
   },
   "outputs": [
    {
     "name": "stderr",
     "output_type": "stream",
     "text": [
      "2024-10-21 16:21:50.288669: E external/local_xla/xla/stream_executor/cuda/cuda_dnn.cc:9261] Unable to register cuDNN factory: Attempting to register factory for plugin cuDNN when one has already been registered\n",
      "2024-10-21 16:21:50.288799: E external/local_xla/xla/stream_executor/cuda/cuda_fft.cc:607] Unable to register cuFFT factory: Attempting to register factory for plugin cuFFT when one has already been registered\n",
      "2024-10-21 16:21:50.433811: E external/local_xla/xla/stream_executor/cuda/cuda_blas.cc:1515] Unable to register cuBLAS factory: Attempting to register factory for plugin cuBLAS when one has already been registered\n"
     ]
    }
   ],
   "source": [
    "import numpy as np\n",
    "import pandas as pd\n",
    "import tensorflow as tf\n",
    "import warnings\n",
    "warnings.filterwarnings(\"ignore\")"
   ]
  },
  {
   "cell_type": "markdown",
   "id": "db84d681",
   "metadata": {
    "papermill": {
     "duration": 0.016524,
     "end_time": "2024-10-21T16:22:01.143875",
     "exception": false,
     "start_time": "2024-10-21T16:22:01.127351",
     "status": "completed"
    },
    "tags": []
   },
   "source": [
    "## Part 1 - Data Preprocessing with EDA"
   ]
  },
  {
   "cell_type": "markdown",
   "id": "9d14fb5e",
   "metadata": {
    "papermill": {
     "duration": 0.016813,
     "end_time": "2024-10-21T16:22:01.176889",
     "exception": false,
     "start_time": "2024-10-21T16:22:01.160076",
     "status": "completed"
    },
    "tags": []
   },
   "source": [
    "### Importing the dataset"
   ]
  },
  {
   "cell_type": "code",
   "execution_count": 3,
   "id": "32de0ebd",
   "metadata": {
    "execution": {
     "iopub.execute_input": "2024-10-21T16:22:01.211894Z",
     "iopub.status.busy": "2024-10-21T16:22:01.211198Z",
     "iopub.status.idle": "2024-10-21T16:22:01.259655Z",
     "shell.execute_reply": "2024-10-21T16:22:01.258596Z"
    },
    "papermill": {
     "duration": 0.068666,
     "end_time": "2024-10-21T16:22:01.262115",
     "exception": false,
     "start_time": "2024-10-21T16:22:01.193449",
     "status": "completed"
    },
    "tags": []
   },
   "outputs": [
    {
     "data": {
      "text/html": [
       "<div>\n",
       "<style scoped>\n",
       "    .dataframe tbody tr th:only-of-type {\n",
       "        vertical-align: middle;\n",
       "    }\n",
       "\n",
       "    .dataframe tbody tr th {\n",
       "        vertical-align: top;\n",
       "    }\n",
       "\n",
       "    .dataframe thead th {\n",
       "        text-align: right;\n",
       "    }\n",
       "</style>\n",
       "<table border=\"1\" class=\"dataframe\">\n",
       "  <thead>\n",
       "    <tr style=\"text-align: right;\">\n",
       "      <th></th>\n",
       "      <th>Age</th>\n",
       "      <th>Gender</th>\n",
       "      <th>Smoking</th>\n",
       "      <th>Hx Smoking</th>\n",
       "      <th>Hx Radiothreapy</th>\n",
       "      <th>Thyroid Function</th>\n",
       "      <th>Physical Examination</th>\n",
       "      <th>Adenopathy</th>\n",
       "      <th>Pathology</th>\n",
       "      <th>Focality</th>\n",
       "      <th>Risk</th>\n",
       "      <th>T</th>\n",
       "      <th>N</th>\n",
       "      <th>M</th>\n",
       "      <th>Stage</th>\n",
       "      <th>Response</th>\n",
       "      <th>Recurred</th>\n",
       "    </tr>\n",
       "  </thead>\n",
       "  <tbody>\n",
       "    <tr>\n",
       "      <th>0</th>\n",
       "      <td>27</td>\n",
       "      <td>F</td>\n",
       "      <td>No</td>\n",
       "      <td>No</td>\n",
       "      <td>No</td>\n",
       "      <td>Euthyroid</td>\n",
       "      <td>Single nodular goiter-left</td>\n",
       "      <td>No</td>\n",
       "      <td>Micropapillary</td>\n",
       "      <td>Uni-Focal</td>\n",
       "      <td>Low</td>\n",
       "      <td>T1a</td>\n",
       "      <td>N0</td>\n",
       "      <td>M0</td>\n",
       "      <td>I</td>\n",
       "      <td>Indeterminate</td>\n",
       "      <td>No</td>\n",
       "    </tr>\n",
       "    <tr>\n",
       "      <th>1</th>\n",
       "      <td>34</td>\n",
       "      <td>F</td>\n",
       "      <td>No</td>\n",
       "      <td>Yes</td>\n",
       "      <td>No</td>\n",
       "      <td>Euthyroid</td>\n",
       "      <td>Multinodular goiter</td>\n",
       "      <td>No</td>\n",
       "      <td>Micropapillary</td>\n",
       "      <td>Uni-Focal</td>\n",
       "      <td>Low</td>\n",
       "      <td>T1a</td>\n",
       "      <td>N0</td>\n",
       "      <td>M0</td>\n",
       "      <td>I</td>\n",
       "      <td>Excellent</td>\n",
       "      <td>No</td>\n",
       "    </tr>\n",
       "    <tr>\n",
       "      <th>2</th>\n",
       "      <td>30</td>\n",
       "      <td>F</td>\n",
       "      <td>No</td>\n",
       "      <td>No</td>\n",
       "      <td>No</td>\n",
       "      <td>Euthyroid</td>\n",
       "      <td>Single nodular goiter-right</td>\n",
       "      <td>No</td>\n",
       "      <td>Micropapillary</td>\n",
       "      <td>Uni-Focal</td>\n",
       "      <td>Low</td>\n",
       "      <td>T1a</td>\n",
       "      <td>N0</td>\n",
       "      <td>M0</td>\n",
       "      <td>I</td>\n",
       "      <td>Excellent</td>\n",
       "      <td>No</td>\n",
       "    </tr>\n",
       "    <tr>\n",
       "      <th>3</th>\n",
       "      <td>62</td>\n",
       "      <td>F</td>\n",
       "      <td>No</td>\n",
       "      <td>No</td>\n",
       "      <td>No</td>\n",
       "      <td>Euthyroid</td>\n",
       "      <td>Single nodular goiter-right</td>\n",
       "      <td>No</td>\n",
       "      <td>Micropapillary</td>\n",
       "      <td>Uni-Focal</td>\n",
       "      <td>Low</td>\n",
       "      <td>T1a</td>\n",
       "      <td>N0</td>\n",
       "      <td>M0</td>\n",
       "      <td>I</td>\n",
       "      <td>Excellent</td>\n",
       "      <td>No</td>\n",
       "    </tr>\n",
       "    <tr>\n",
       "      <th>4</th>\n",
       "      <td>62</td>\n",
       "      <td>F</td>\n",
       "      <td>No</td>\n",
       "      <td>No</td>\n",
       "      <td>No</td>\n",
       "      <td>Euthyroid</td>\n",
       "      <td>Multinodular goiter</td>\n",
       "      <td>No</td>\n",
       "      <td>Micropapillary</td>\n",
       "      <td>Multi-Focal</td>\n",
       "      <td>Low</td>\n",
       "      <td>T1a</td>\n",
       "      <td>N0</td>\n",
       "      <td>M0</td>\n",
       "      <td>I</td>\n",
       "      <td>Excellent</td>\n",
       "      <td>No</td>\n",
       "    </tr>\n",
       "  </tbody>\n",
       "</table>\n",
       "</div>"
      ],
      "text/plain": [
       "   Age Gender Smoking Hx Smoking Hx Radiothreapy Thyroid Function  \\\n",
       "0   27      F      No         No              No        Euthyroid   \n",
       "1   34      F      No        Yes              No        Euthyroid   \n",
       "2   30      F      No         No              No        Euthyroid   \n",
       "3   62      F      No         No              No        Euthyroid   \n",
       "4   62      F      No         No              No        Euthyroid   \n",
       "\n",
       "          Physical Examination Adenopathy       Pathology     Focality Risk  \\\n",
       "0   Single nodular goiter-left         No  Micropapillary    Uni-Focal  Low   \n",
       "1          Multinodular goiter         No  Micropapillary    Uni-Focal  Low   \n",
       "2  Single nodular goiter-right         No  Micropapillary    Uni-Focal  Low   \n",
       "3  Single nodular goiter-right         No  Micropapillary    Uni-Focal  Low   \n",
       "4          Multinodular goiter         No  Micropapillary  Multi-Focal  Low   \n",
       "\n",
       "     T   N   M Stage       Response Recurred  \n",
       "0  T1a  N0  M0     I  Indeterminate       No  \n",
       "1  T1a  N0  M0     I      Excellent       No  \n",
       "2  T1a  N0  M0     I      Excellent       No  \n",
       "3  T1a  N0  M0     I      Excellent       No  \n",
       "4  T1a  N0  M0     I      Excellent       No  "
      ]
     },
     "execution_count": 3,
     "metadata": {},
     "output_type": "execute_result"
    }
   ],
   "source": [
    "dataset=pd.read_csv(r'/kaggle/input/thyroid-disease-data/Thyroid_Diff.csv')\n",
    "dataset.head()"
   ]
  },
  {
   "cell_type": "markdown",
   "id": "359a2647",
   "metadata": {
    "papermill": {
     "duration": 0.016725,
     "end_time": "2024-10-21T16:22:01.295666",
     "exception": false,
     "start_time": "2024-10-21T16:22:01.278941",
     "status": "completed"
    },
    "tags": []
   },
   "source": [
    "### Renaming the columns for better understanding"
   ]
  },
  {
   "cell_type": "code",
   "execution_count": 4,
   "id": "6533f4e0",
   "metadata": {
    "execution": {
     "iopub.execute_input": "2024-10-21T16:22:01.331821Z",
     "iopub.status.busy": "2024-10-21T16:22:01.330782Z",
     "iopub.status.idle": "2024-10-21T16:22:01.337745Z",
     "shell.execute_reply": "2024-10-21T16:22:01.336669Z"
    },
    "papermill": {
     "duration": 0.027922,
     "end_time": "2024-10-21T16:22:01.340309",
     "exception": false,
     "start_time": "2024-10-21T16:22:01.312387",
     "status": "completed"
    },
    "tags": []
   },
   "outputs": [],
   "source": [
    "dataset.rename(columns={'Hx Smoking': 'Smoking History',\n",
    "                   'Hx Radiothreapy': 'Radiotherapy History',\n",
    "                   'Pathology': 'Types of Thyroid Cancer (Pathology)',\n",
    "                   'T': 'Tumor',\n",
    "                   'N': 'Lymph Nodes',\n",
    "                   'M': 'Cancer Metastasis',\n",
    "                  'Response' : 'Treatment Response'}, inplace=True)\n"
   ]
  },
  {
   "cell_type": "code",
   "execution_count": 5,
   "id": "4ae7144c",
   "metadata": {
    "execution": {
     "iopub.execute_input": "2024-10-21T16:22:01.375986Z",
     "iopub.status.busy": "2024-10-21T16:22:01.375557Z",
     "iopub.status.idle": "2024-10-21T16:22:01.402222Z",
     "shell.execute_reply": "2024-10-21T16:22:01.400717Z"
    },
    "papermill": {
     "duration": 0.047683,
     "end_time": "2024-10-21T16:22:01.404869",
     "exception": false,
     "start_time": "2024-10-21T16:22:01.357186",
     "status": "completed"
    },
    "tags": []
   },
   "outputs": [
    {
     "name": "stdout",
     "output_type": "stream",
     "text": [
      "<class 'pandas.core.frame.DataFrame'>\n",
      "RangeIndex: 383 entries, 0 to 382\n",
      "Data columns (total 17 columns):\n",
      " #   Column                               Non-Null Count  Dtype \n",
      "---  ------                               --------------  ----- \n",
      " 0   Age                                  383 non-null    int64 \n",
      " 1   Gender                               383 non-null    object\n",
      " 2   Smoking                              383 non-null    object\n",
      " 3   Smoking History                      383 non-null    object\n",
      " 4   Radiotherapy History                 383 non-null    object\n",
      " 5   Thyroid Function                     383 non-null    object\n",
      " 6   Physical Examination                 383 non-null    object\n",
      " 7   Adenopathy                           383 non-null    object\n",
      " 8   Types of Thyroid Cancer (Pathology)  383 non-null    object\n",
      " 9   Focality                             383 non-null    object\n",
      " 10  Risk                                 383 non-null    object\n",
      " 11  Tumor                                383 non-null    object\n",
      " 12  Lymph Nodes                          383 non-null    object\n",
      " 13  Cancer Metastasis                    383 non-null    object\n",
      " 14  Stage                                383 non-null    object\n",
      " 15  Treatment Response                   383 non-null    object\n",
      " 16  Recurred                             383 non-null    object\n",
      "dtypes: int64(1), object(16)\n",
      "memory usage: 51.0+ KB\n"
     ]
    }
   ],
   "source": [
    "dataset.info()"
   ]
  },
  {
   "cell_type": "code",
   "execution_count": 6,
   "id": "806e079c",
   "metadata": {
    "execution": {
     "iopub.execute_input": "2024-10-21T16:22:01.441660Z",
     "iopub.status.busy": "2024-10-21T16:22:01.441216Z",
     "iopub.status.idle": "2024-10-21T16:22:01.460934Z",
     "shell.execute_reply": "2024-10-21T16:22:01.459613Z"
    },
    "papermill": {
     "duration": 0.041291,
     "end_time": "2024-10-21T16:22:01.463278",
     "exception": false,
     "start_time": "2024-10-21T16:22:01.421987",
     "status": "completed"
    },
    "tags": []
   },
   "outputs": [
    {
     "data": {
      "text/html": [
       "<div>\n",
       "<style scoped>\n",
       "    .dataframe tbody tr th:only-of-type {\n",
       "        vertical-align: middle;\n",
       "    }\n",
       "\n",
       "    .dataframe tbody tr th {\n",
       "        vertical-align: top;\n",
       "    }\n",
       "\n",
       "    .dataframe thead th {\n",
       "        text-align: right;\n",
       "    }\n",
       "</style>\n",
       "<table border=\"1\" class=\"dataframe\">\n",
       "  <thead>\n",
       "    <tr style=\"text-align: right;\">\n",
       "      <th></th>\n",
       "      <th>Age</th>\n",
       "    </tr>\n",
       "  </thead>\n",
       "  <tbody>\n",
       "    <tr>\n",
       "      <th>count</th>\n",
       "      <td>383.000000</td>\n",
       "    </tr>\n",
       "    <tr>\n",
       "      <th>mean</th>\n",
       "      <td>40.866841</td>\n",
       "    </tr>\n",
       "    <tr>\n",
       "      <th>std</th>\n",
       "      <td>15.134494</td>\n",
       "    </tr>\n",
       "    <tr>\n",
       "      <th>min</th>\n",
       "      <td>15.000000</td>\n",
       "    </tr>\n",
       "    <tr>\n",
       "      <th>25%</th>\n",
       "      <td>29.000000</td>\n",
       "    </tr>\n",
       "    <tr>\n",
       "      <th>50%</th>\n",
       "      <td>37.000000</td>\n",
       "    </tr>\n",
       "    <tr>\n",
       "      <th>75%</th>\n",
       "      <td>51.000000</td>\n",
       "    </tr>\n",
       "    <tr>\n",
       "      <th>max</th>\n",
       "      <td>82.000000</td>\n",
       "    </tr>\n",
       "  </tbody>\n",
       "</table>\n",
       "</div>"
      ],
      "text/plain": [
       "              Age\n",
       "count  383.000000\n",
       "mean    40.866841\n",
       "std     15.134494\n",
       "min     15.000000\n",
       "25%     29.000000\n",
       "50%     37.000000\n",
       "75%     51.000000\n",
       "max     82.000000"
      ]
     },
     "execution_count": 6,
     "metadata": {},
     "output_type": "execute_result"
    }
   ],
   "source": [
    "dataset.describe()"
   ]
  },
  {
   "cell_type": "markdown",
   "id": "ba45f4c4",
   "metadata": {
    "papermill": {
     "duration": 0.017481,
     "end_time": "2024-10-21T16:22:01.497952",
     "exception": false,
     "start_time": "2024-10-21T16:22:01.480471",
     "status": "completed"
    },
    "tags": []
   },
   "source": [
    "### Replacing the values with a more summarized data"
   ]
  },
  {
   "cell_type": "code",
   "execution_count": 7,
   "id": "5dfedad7",
   "metadata": {
    "execution": {
     "iopub.execute_input": "2024-10-21T16:22:01.534884Z",
     "iopub.status.busy": "2024-10-21T16:22:01.533775Z",
     "iopub.status.idle": "2024-10-21T16:22:01.546594Z",
     "shell.execute_reply": "2024-10-21T16:22:01.545479Z"
    },
    "papermill": {
     "duration": 0.034278,
     "end_time": "2024-10-21T16:22:01.549553",
     "exception": false,
     "start_time": "2024-10-21T16:22:01.515275",
     "status": "completed"
    },
    "tags": []
   },
   "outputs": [],
   "source": [
    "dataset['Tumor'].replace({'T1a' : 'tumor that is 1 cm or smaller' , 'T1b' : 'tumor larger than 1 cm but not larger than 2 cm' ,\n",
    "                     'T2' : 'tumor larger than 2 cm but not larger than 4 cm' , \n",
    "                     'T3a' : 'tumor larger than 4 cm' ,'T3b' : 'tumor that has grown outside the thyroid' ,\n",
    "                     'T4a' : 'tumor that has invaded nearby structures' ,\n",
    "                     'T4b' : 'tumor that has invaded nearby structures'} , inplace =True)\n",
    "\n",
    "dataset['Lymph Nodes'].replace({'N0' : 'no evidence of regional lymph node metastasis' ,\n",
    "                     'N1b' : 'regional lymph node metastasis in the central  of the neck' ,\n",
    "                     'N1a' : 'regional lymph node metastasis in the lateral of the neck'} , inplace =True)\n",
    "\n",
    "dataset['Cancer Metastasis'].replace({'M0': 'no evidence of distant metastasis' , 'M1' : 'the presence of distant metastasis'} ,inplace =True )\n",
    "\n",
    "dataset['Stage'].replace({'I' : 'First-Stage' , 'II' : 'Second-Stage' , 'III' : 'Third-Stage', 'IVA' : 'Fourth-Stage-A', 'IVB' : 'Fourth-Stage-B'} ,inplace = True)"
   ]
  },
  {
   "cell_type": "markdown",
   "id": "221a1ae5",
   "metadata": {
    "papermill": {
     "duration": 0.017131,
     "end_time": "2024-10-21T16:22:01.584382",
     "exception": false,
     "start_time": "2024-10-21T16:22:01.567251",
     "status": "completed"
    },
    "tags": []
   },
   "source": [
    "### Creating Boxplots to show the outliers"
   ]
  },
  {
   "cell_type": "code",
   "execution_count": 8,
   "id": "0121c4c7",
   "metadata": {
    "execution": {
     "iopub.execute_input": "2024-10-21T16:22:01.621346Z",
     "iopub.status.busy": "2024-10-21T16:22:01.620935Z",
     "iopub.status.idle": "2024-10-21T16:22:03.190575Z",
     "shell.execute_reply": "2024-10-21T16:22:03.189502Z"
    },
    "papermill": {
     "duration": 1.591643,
     "end_time": "2024-10-21T16:22:03.193253",
     "exception": false,
     "start_time": "2024-10-21T16:22:01.601610",
     "status": "completed"
    },
    "tags": []
   },
   "outputs": [
    {
     "data": {
      "image/png": "[encoded data removed]",
      "text/plain": [
       "<Figure size 640x480 with 1 Axes>"
      ]
     },
     "metadata": {},
     "output_type": "display_data"
    }
   ],
   "source": [
    "import seaborn as sns\n",
    "\n",
    "bxt = sns.boxplot(x='Age', y='Tumor', data=dataset, palette=\"YlOrBr\")\n",
    "bxt.set_title('Boxplot of Age by Tumor Stages')\n",
    "bxt.set_xlabel('Age')\n",
    "bxt.set_ylabel('Stages of Tumor')\n",
    "bxt.tick_params(axis='y', rotation=0)\n"
   ]
  },
  {
   "cell_type": "code",
   "execution_count": 9,
   "id": "2de64296",
   "metadata": {
    "execution": {
     "iopub.execute_input": "2024-10-21T16:22:03.229223Z",
     "iopub.status.busy": "2024-10-21T16:22:03.228832Z",
     "iopub.status.idle": "2024-10-21T16:22:03.539666Z",
     "shell.execute_reply": "2024-10-21T16:22:03.538640Z"
    },
    "papermill": {
     "duration": 0.331526,
     "end_time": "2024-10-21T16:22:03.541954",
     "exception": false,
     "start_time": "2024-10-21T16:22:03.210428",
     "status": "completed"
    },
    "tags": []
   },
   "outputs": [
    {
     "data": {
      "image/png": "[encoded data removed]",
      "text/plain": [
       "<Figure size 640x480 with 1 Axes>"
      ]
     },
     "metadata": {},
     "output_type": "display_data"
    }
   ],
   "source": [
    "bxs = sns.boxplot(x = 'Age', y = 'Stage', data = dataset, palette = 'YlOrBr')\n",
    "bxs.set_title('Boxplot of Age by Cancer Stages')\n",
    "bxs.set_xlabel('Age')\n",
    "bxs.set_ylabel('Stages of Cancer')\n",
    "bxs.tick_params(axis='y', rotation=0)"
   ]
  },
  {
   "cell_type": "markdown",
   "id": "f6cc4f2e",
   "metadata": {
    "papermill": {
     "duration": 0.017545,
     "end_time": "2024-10-21T16:22:03.575802",
     "exception": false,
     "start_time": "2024-10-21T16:22:03.558257",
     "status": "completed"
    },
    "tags": []
   },
   "source": [
    "## Part 2 - Data Visualization"
   ]
  },
  {
   "cell_type": "code",
   "execution_count": 10,
   "id": "d6426590",
   "metadata": {
    "execution": {
     "iopub.execute_input": "2024-10-21T16:22:03.611585Z",
     "iopub.status.busy": "2024-10-21T16:22:03.610726Z",
     "iopub.status.idle": "2024-10-21T16:22:03.860482Z",
     "shell.execute_reply": "2024-10-21T16:22:03.859028Z"
    },
    "papermill": {
     "duration": 0.270888,
     "end_time": "2024-10-21T16:22:03.863939",
     "exception": false,
     "start_time": "2024-10-21T16:22:03.593051",
     "status": "completed"
    },
    "tags": []
   },
   "outputs": [
    {
     "data": {
      "text/plain": [
       "Text(0, 0.5, '')"
      ]
     },
     "execution_count": 10,
     "metadata": {},
     "output_type": "execute_result"
    },
    {
     "data": {
      "image/png": "[encoded data removed]",
      "text/plain": [
       "<Figure size 640x480 with 1 Axes>"
      ]
     },
     "metadata": {},
     "output_type": "display_data"
    }
   ],
   "source": [
    "# Pie Charts for Stages\n",
    "sns.set_palette(\"YlOrBr\")\n",
    "stages = dataset['Stage'].value_counts()\n",
    "stage = stages.plot(kind = 'pie', explode = [0.1, 0.2, 0.3, 0.4, 0.9], labels = stages.index, shadow = True)\n",
    "stage.set_title('Percentage of Each Cancer Stage')\n",
    "stage.set_ylabel('')"
   ]
  },
  {
   "cell_type": "code",
   "execution_count": 11,
   "id": "df0ccfc9",
   "metadata": {
    "execution": {
     "iopub.execute_input": "2024-10-21T16:22:03.921595Z",
     "iopub.status.busy": "2024-10-21T16:22:03.920957Z",
     "iopub.status.idle": "2024-10-21T16:22:04.455114Z",
     "shell.execute_reply": "2024-10-21T16:22:04.454037Z"
    },
    "papermill": {
     "duration": 0.555232,
     "end_time": "2024-10-21T16:22:04.457616",
     "exception": false,
     "start_time": "2024-10-21T16:22:03.902384",
     "status": "completed"
    },
    "tags": []
   },
   "outputs": [
    {
     "data": {
      "image/png": "[encoded data removed]",
      "text/plain": [
       "<Figure size 2000x800 with 3 Axes>"
      ]
     },
     "metadata": {},
     "output_type": "display_data"
    }
   ],
   "source": [
    "import matplotlib.pyplot as plt\n",
    "sns.set_palette('Spectral')\n",
    "fig, axes = plt.subplots(1, 3, figsize=(20, 8))\n",
    "\n",
    "# Pie chart for Adenopathy\n",
    "adeno = dataset['Adenopathy'].value_counts()\n",
    "adeno.plot(kind='pie', autopct='%0.2f%%', labels=adeno.index, shadow=True, ax=axes[0])\n",
    "axes[0].set_title('Percentage of Adenopathy')\n",
    "axes[0].set_ylabel('')\n",
    "\n",
    "# Pie chart for Thyroid Function\n",
    "thy = dataset['Thyroid Function'].value_counts()\n",
    "thy.plot(kind='pie', autopct='%0.2f%%', labels=thy.index, shadow=True, ax=axes[1])\n",
    "axes[1].set_title('Percentage of Thyroid Function')\n",
    "axes[1].set_ylabel('')\n",
    "\n",
    "# Pie chart for Types of Thyroid Cancer\n",
    "path = dataset['Types of Thyroid Cancer (Pathology)'].value_counts()\n",
    "path.plot(kind='pie', autopct='%0.2f%%', labels=path.index, shadow=True, ax=axes[2])\n",
    "axes[2].set_title('Percentage of Types of Thyroid Cancer')\n",
    "axes[2].set_ylabel('')\n",
    "\n",
    "plt.show()"
   ]
  },
  {
   "cell_type": "code",
   "execution_count": 12,
   "id": "3e2e5d08",
   "metadata": {
    "execution": {
     "iopub.execute_input": "2024-10-21T16:22:04.499866Z",
     "iopub.status.busy": "2024-10-21T16:22:04.499016Z",
     "iopub.status.idle": "2024-10-21T16:22:05.087966Z",
     "shell.execute_reply": "2024-10-21T16:22:05.086886Z"
    },
    "papermill": {
     "duration": 0.613178,
     "end_time": "2024-10-21T16:22:05.090773",
     "exception": false,
     "start_time": "2024-10-21T16:22:04.477595",
     "status": "completed"
    },
    "tags": []
   },
   "outputs": [
    {
     "data": {
      "image/png": "[encoded data removed]",
      "text/plain": [
       "<Figure size 2000x800 with 3 Axes>"
      ]
     },
     "metadata": {},
     "output_type": "display_data"
    }
   ],
   "source": [
    "fig, axes = plt.subplots(1, 3, figsize=(20, 8))\n",
    "\n",
    "#Display the count of patients in each gender category.\n",
    "sns.countplot(x='Gender', data=dataset, palette='Spectral', ax=axes[0])\n",
    "axes[0].set_title('Gender Distribution')\n",
    "axes[0].set_xlabel('Gender')\n",
    "axes[0].set_ylabel('Count')\n",
    "\n",
    "sns.countplot(x='Smoking', data=dataset, palette='Spectral', ax=axes[1])\n",
    "axes[1].set_title('Smoking Distribution')\n",
    "axes[1].set_xlabel('Smoking')\n",
    "axes[1].set_ylabel('Count')\n",
    "\n",
    "sns.countplot(x='Treatment Response', data=dataset, palette='Spectral',  ax=axes[2])\n",
    "axes[2].set_title('Treatment Response Distribution')\n",
    "axes[2].set_xlabel('Treatment Response')\n",
    "axes[2].set_ylabel('Count')\n",
    "axes[2].tick_params(axis='x', rotation=45)\n",
    "plt.show()"
   ]
  },
  {
   "cell_type": "markdown",
   "id": "46f88cb5",
   "metadata": {
    "papermill": {
     "duration": 0.021819,
     "end_time": "2024-10-21T16:22:05.134276",
     "exception": false,
     "start_time": "2024-10-21T16:22:05.112457",
     "status": "completed"
    },
    "tags": []
   },
   "source": [
    "### Following Insights were found among these visualizations are:\n",
    "* Majority of the Patients are Female who have Thyroid Cancer\n",
    "* Majority of the Patients are non-smokers which means that smoking have less chance of affect on the thyroid cancer\n",
    "* Majority of the Patients are recovering at an alarming rate"
   ]
  },
  {
   "cell_type": "code",
   "execution_count": 13,
   "id": "03159515",
   "metadata": {
    "execution": {
     "iopub.execute_input": "2024-10-21T16:22:05.179559Z",
     "iopub.status.busy": "2024-10-21T16:22:05.179128Z",
     "iopub.status.idle": "2024-10-21T16:22:05.532687Z",
     "shell.execute_reply": "2024-10-21T16:22:05.531367Z"
    },
    "papermill": {
     "duration": 0.37963,
     "end_time": "2024-10-21T16:22:05.534992",
     "exception": false,
     "start_time": "2024-10-21T16:22:05.155362",
     "status": "completed"
    },
    "tags": []
   },
   "outputs": [
    {
     "data": {
      "image/png": "[encoded data removed]",
      "text/plain": [
       "<Figure size 1000x600 with 1 Axes>"
      ]
     },
     "metadata": {},
     "output_type": "display_data"
    }
   ],
   "source": [
    "# Visualizing the distribution of ages using a histogram.\n",
    "plt.figure(figsize=(10, 6))\n",
    "sns.histplot(dataset['Age'], bins=20, kde=True, color = '#a9dadb')\n",
    "plt.xlabel('Age')\n",
    "plt.ylabel('Frequency')\n",
    "plt.title('Distributions of Age')\n",
    "plt.show()"
   ]
  },
  {
   "cell_type": "markdown",
   "id": "b3978a49",
   "metadata": {
    "papermill": {
     "duration": 0.021611,
     "end_time": "2024-10-21T16:22:05.623280",
     "exception": false,
     "start_time": "2024-10-21T16:22:05.601669",
     "status": "completed"
    },
    "tags": []
   },
   "source": [
    "**Here we can conclude that the majority of patients are 28-35 years old and the distribution is right skewed (Mean > Median > Mode)**"
   ]
  },
  {
   "cell_type": "markdown",
   "id": "2c2716b2",
   "metadata": {
    "papermill": {
     "duration": 0.020591,
     "end_time": "2024-10-21T16:22:05.664931",
     "exception": false,
     "start_time": "2024-10-21T16:22:05.644340",
     "status": "completed"
    },
    "tags": []
   },
   "source": []
  },
  {
   "cell_type": "markdown",
   "id": "e24f1e6d",
   "metadata": {
    "papermill": {
     "duration": 0.020001,
     "end_time": "2024-10-21T16:22:05.705281",
     "exception": false,
     "start_time": "2024-10-21T16:22:05.685280",
     "status": "completed"
    },
    "tags": []
   },
   "source": [
    "## Part 3 - Additional Data Preprocessing"
   ]
  },
  {
   "cell_type": "code",
   "execution_count": 14,
   "id": "7bccfdff",
   "metadata": {
    "execution": {
     "iopub.execute_input": "2024-10-21T16:22:05.748264Z",
     "iopub.status.busy": "2024-10-21T16:22:05.747869Z",
     "iopub.status.idle": "2024-10-21T16:22:05.767441Z",
     "shell.execute_reply": "2024-10-21T16:22:05.766479Z"
    },
    "papermill": {
     "duration": 0.043813,
     "end_time": "2024-10-21T16:22:05.769500",
     "exception": false,
     "start_time": "2024-10-21T16:22:05.725687",
     "status": "completed"
    },
    "tags": []
   },
   "outputs": [
    {
     "data": {
      "text/html": [
       "<div>\n",
       "<style scoped>\n",
       "    .dataframe tbody tr th:only-of-type {\n",
       "        vertical-align: middle;\n",
       "    }\n",
       "\n",
       "    .dataframe tbody tr th {\n",
       "        vertical-align: top;\n",
       "    }\n",
       "\n",
       "    .dataframe thead th {\n",
       "        text-align: right;\n",
       "    }\n",
       "</style>\n",
       "<table border=\"1\" class=\"dataframe\">\n",
       "  <thead>\n",
       "    <tr style=\"text-align: right;\">\n",
       "      <th></th>\n",
       "      <th>Age</th>\n",
       "      <th>Gender</th>\n",
       "      <th>Smoking</th>\n",
       "      <th>Smoking History</th>\n",
       "      <th>Radiotherapy History</th>\n",
       "      <th>Thyroid Function</th>\n",
       "      <th>Physical Examination</th>\n",
       "      <th>Adenopathy</th>\n",
       "      <th>Types of Thyroid Cancer (Pathology)</th>\n",
       "      <th>Focality</th>\n",
       "      <th>Risk</th>\n",
       "      <th>Tumor</th>\n",
       "      <th>Lymph Nodes</th>\n",
       "      <th>Cancer Metastasis</th>\n",
       "      <th>Stage</th>\n",
       "      <th>Treatment Response</th>\n",
       "      <th>Recurred</th>\n",
       "    </tr>\n",
       "  </thead>\n",
       "  <tbody>\n",
       "    <tr>\n",
       "      <th>0</th>\n",
       "      <td>27</td>\n",
       "      <td>F</td>\n",
       "      <td>No</td>\n",
       "      <td>No</td>\n",
       "      <td>No</td>\n",
       "      <td>Euthyroid</td>\n",
       "      <td>Single nodular goiter-left</td>\n",
       "      <td>No</td>\n",
       "      <td>Micropapillary</td>\n",
       "      <td>Uni-Focal</td>\n",
       "      <td>Low</td>\n",
       "      <td>tumor that is 1 cm or smaller</td>\n",
       "      <td>no evidence of regional lymph node metastasis</td>\n",
       "      <td>no evidence of distant metastasis</td>\n",
       "      <td>First-Stage</td>\n",
       "      <td>Indeterminate</td>\n",
       "      <td>No</td>\n",
       "    </tr>\n",
       "    <tr>\n",
       "      <th>1</th>\n",
       "      <td>34</td>\n",
       "      <td>F</td>\n",
       "      <td>No</td>\n",
       "      <td>Yes</td>\n",
       "      <td>No</td>\n",
       "      <td>Euthyroid</td>\n",
       "      <td>Multinodular goiter</td>\n",
       "      <td>No</td>\n",
       "      <td>Micropapillary</td>\n",
       "      <td>Uni-Focal</td>\n",
       "      <td>Low</td>\n",
       "      <td>tumor that is 1 cm or smaller</td>\n",
       "      <td>no evidence of regional lymph node metastasis</td>\n",
       "      <td>no evidence of distant metastasis</td>\n",
       "      <td>First-Stage</td>\n",
       "      <td>Excellent</td>\n",
       "      <td>No</td>\n",
       "    </tr>\n",
       "    <tr>\n",
       "      <th>2</th>\n",
       "      <td>30</td>\n",
       "      <td>F</td>\n",
       "      <td>No</td>\n",
       "      <td>No</td>\n",
       "      <td>No</td>\n",
       "      <td>Euthyroid</td>\n",
       "      <td>Single nodular goiter-right</td>\n",
       "      <td>No</td>\n",
       "      <td>Micropapillary</td>\n",
       "      <td>Uni-Focal</td>\n",
       "      <td>Low</td>\n",
       "      <td>tumor that is 1 cm or smaller</td>\n",
       "      <td>no evidence of regional lymph node metastasis</td>\n",
       "      <td>no evidence of distant metastasis</td>\n",
       "      <td>First-Stage</td>\n",
       "      <td>Excellent</td>\n",
       "      <td>No</td>\n",
       "    </tr>\n",
       "    <tr>\n",
       "      <th>3</th>\n",
       "      <td>62</td>\n",
       "      <td>F</td>\n",
       "      <td>No</td>\n",
       "      <td>No</td>\n",
       "      <td>No</td>\n",
       "      <td>Euthyroid</td>\n",
       "      <td>Single nodular goiter-right</td>\n",
       "      <td>No</td>\n",
       "      <td>Micropapillary</td>\n",
       "      <td>Uni-Focal</td>\n",
       "      <td>Low</td>\n",
       "      <td>tumor that is 1 cm or smaller</td>\n",
       "      <td>no evidence of regional lymph node metastasis</td>\n",
       "      <td>no evidence of distant metastasis</td>\n",
       "      <td>First-Stage</td>\n",
       "      <td>Excellent</td>\n",
       "      <td>No</td>\n",
       "    </tr>\n",
       "    <tr>\n",
       "      <th>4</th>\n",
       "      <td>62</td>\n",
       "      <td>F</td>\n",
       "      <td>No</td>\n",
       "      <td>No</td>\n",
       "      <td>No</td>\n",
       "      <td>Euthyroid</td>\n",
       "      <td>Multinodular goiter</td>\n",
       "      <td>No</td>\n",
       "      <td>Micropapillary</td>\n",
       "      <td>Multi-Focal</td>\n",
       "      <td>Low</td>\n",
       "      <td>tumor that is 1 cm or smaller</td>\n",
       "      <td>no evidence of regional lymph node metastasis</td>\n",
       "      <td>no evidence of distant metastasis</td>\n",
       "      <td>First-Stage</td>\n",
       "      <td>Excellent</td>\n",
       "      <td>No</td>\n",
       "    </tr>\n",
       "  </tbody>\n",
       "</table>\n",
       "</div>"
      ],
      "text/plain": [
       "   Age Gender Smoking Smoking History Radiotherapy History Thyroid Function  \\\n",
       "0   27      F      No              No                   No        Euthyroid   \n",
       "1   34      F      No             Yes                   No        Euthyroid   \n",
       "2   30      F      No              No                   No        Euthyroid   \n",
       "3   62      F      No              No                   No        Euthyroid   \n",
       "4   62      F      No              No                   No        Euthyroid   \n",
       "\n",
       "          Physical Examination Adenopathy Types of Thyroid Cancer (Pathology)  \\\n",
       "0   Single nodular goiter-left         No                      Micropapillary   \n",
       "1          Multinodular goiter         No                      Micropapillary   \n",
       "2  Single nodular goiter-right         No                      Micropapillary   \n",
       "3  Single nodular goiter-right         No                      Micropapillary   \n",
       "4          Multinodular goiter         No                      Micropapillary   \n",
       "\n",
       "      Focality Risk                          Tumor  \\\n",
       "0    Uni-Focal  Low  tumor that is 1 cm or smaller   \n",
       "1    Uni-Focal  Low  tumor that is 1 cm or smaller   \n",
       "2    Uni-Focal  Low  tumor that is 1 cm or smaller   \n",
       "3    Uni-Focal  Low  tumor that is 1 cm or smaller   \n",
       "4  Multi-Focal  Low  tumor that is 1 cm or smaller   \n",
       "\n",
       "                                     Lymph Nodes  \\\n",
       "0  no evidence of regional lymph node metastasis   \n",
       "1  no evidence of regional lymph node metastasis   \n",
       "2  no evidence of regional lymph node metastasis   \n",
       "3  no evidence of regional lymph node metastasis   \n",
       "4  no evidence of regional lymph node metastasis   \n",
       "\n",
       "                   Cancer Metastasis        Stage Treatment Response Recurred  \n",
       "0  no evidence of distant metastasis  First-Stage      Indeterminate       No  \n",
       "1  no evidence of distant metastasis  First-Stage          Excellent       No  \n",
       "2  no evidence of distant metastasis  First-Stage          Excellent       No  \n",
       "3  no evidence of distant metastasis  First-Stage          Excellent       No  \n",
       "4  no evidence of distant metastasis  First-Stage          Excellent       No  "
      ]
     },
     "execution_count": 14,
     "metadata": {},
     "output_type": "execute_result"
    }
   ],
   "source": [
    "pd.set_option('display.max_columns', 100)\n",
    "dataset.head()"
   ]
  },
  {
   "cell_type": "markdown",
   "id": "a987bd48",
   "metadata": {
    "papermill": {
     "duration": 0.021076,
     "end_time": "2024-10-21T16:22:05.811421",
     "exception": false,
     "start_time": "2024-10-21T16:22:05.790345",
     "status": "completed"
    },
    "tags": []
   },
   "source": [
    "### Making Dummy Variables and Label Encoding"
   ]
  },
  {
   "cell_type": "code",
   "execution_count": 15,
   "id": "4a2132c7",
   "metadata": {
    "execution": {
     "iopub.execute_input": "2024-10-21T16:22:05.854875Z",
     "iopub.status.busy": "2024-10-21T16:22:05.854229Z",
     "iopub.status.idle": "2024-10-21T16:22:05.869383Z",
     "shell.execute_reply": "2024-10-21T16:22:05.868359Z"
    },
    "papermill": {
     "duration": 0.039449,
     "end_time": "2024-10-21T16:22:05.871549",
     "exception": false,
     "start_time": "2024-10-21T16:22:05.832100",
     "status": "completed"
    },
    "tags": []
   },
   "outputs": [],
   "source": [
    "dataset = pd.get_dummies(dataset,columns=['Thyroid Function','Physical Examination','Adenopathy','Types of Thyroid Cancer (Pathology)','Focality','Tumor','Lymph Nodes','Cancer Metastasis'])"
   ]
  },
  {
   "cell_type": "code",
   "execution_count": 16,
   "id": "576e2caf",
   "metadata": {
    "execution": {
     "iopub.execute_input": "2024-10-21T16:22:05.921527Z",
     "iopub.status.busy": "2024-10-21T16:22:05.921173Z",
     "iopub.status.idle": "2024-10-21T16:22:06.055095Z",
     "shell.execute_reply": "2024-10-21T16:22:06.054143Z"
    },
    "papermill": {
     "duration": 0.159953,
     "end_time": "2024-10-21T16:22:06.057588",
     "exception": false,
     "start_time": "2024-10-21T16:22:05.897635",
     "status": "completed"
    },
    "tags": []
   },
   "outputs": [],
   "source": [
    "from sklearn.preprocessing import LabelEncoder\n",
    "categ = ['Gender','Smoking','Smoking History','Radiotherapy History','Risk','Stage','Treatment Response','Recurred']\n",
    "# Encode Categorical Columns\n",
    "le = LabelEncoder()\n",
    "dataset[categ] = dataset[categ].apply(le.fit_transform)"
   ]
  },
  {
   "cell_type": "code",
   "execution_count": 17,
   "id": "32855057",
   "metadata": {
    "execution": {
     "iopub.execute_input": "2024-10-21T16:22:06.102628Z",
     "iopub.status.busy": "2024-10-21T16:22:06.101688Z",
     "iopub.status.idle": "2024-10-21T16:22:06.135518Z",
     "shell.execute_reply": "2024-10-21T16:22:06.134523Z"
    },
    "papermill": {
     "duration": 0.058709,
     "end_time": "2024-10-21T16:22:06.137780",
     "exception": false,
     "start_time": "2024-10-21T16:22:06.079071",
     "status": "completed"
    },
    "tags": []
   },
   "outputs": [
    {
     "data": {
      "text/html": [
       "<div>\n",
       "<style scoped>\n",
       "    .dataframe tbody tr th:only-of-type {\n",
       "        vertical-align: middle;\n",
       "    }\n",
       "\n",
       "    .dataframe tbody tr th {\n",
       "        vertical-align: top;\n",
       "    }\n",
       "\n",
       "    .dataframe thead th {\n",
       "        text-align: right;\n",
       "    }\n",
       "</style>\n",
       "<table border=\"1\" class=\"dataframe\">\n",
       "  <thead>\n",
       "    <tr style=\"text-align: right;\">\n",
       "      <th></th>\n",
       "      <th>Age</th>\n",
       "      <th>Gender</th>\n",
       "      <th>Smoking</th>\n",
       "      <th>Smoking History</th>\n",
       "      <th>Radiotherapy History</th>\n",
       "      <th>Risk</th>\n",
       "      <th>Stage</th>\n",
       "      <th>Treatment Response</th>\n",
       "      <th>Recurred</th>\n",
       "      <th>Thyroid Function_Clinical Hyperthyroidism</th>\n",
       "      <th>Thyroid Function_Clinical Hypothyroidism</th>\n",
       "      <th>Thyroid Function_Euthyroid</th>\n",
       "      <th>Thyroid Function_Subclinical Hyperthyroidism</th>\n",
       "      <th>Thyroid Function_Subclinical Hypothyroidism</th>\n",
       "      <th>Physical Examination_Diffuse goiter</th>\n",
       "      <th>Physical Examination_Multinodular goiter</th>\n",
       "      <th>Physical Examination_Normal</th>\n",
       "      <th>Physical Examination_Single nodular goiter-left</th>\n",
       "      <th>Physical Examination_Single nodular goiter-right</th>\n",
       "      <th>Adenopathy_Bilateral</th>\n",
       "      <th>Adenopathy_Extensive</th>\n",
       "      <th>Adenopathy_Left</th>\n",
       "      <th>Adenopathy_No</th>\n",
       "      <th>Adenopathy_Posterior</th>\n",
       "      <th>Adenopathy_Right</th>\n",
       "      <th>Types of Thyroid Cancer (Pathology)_Follicular</th>\n",
       "      <th>Types of Thyroid Cancer (Pathology)_Hurthel cell</th>\n",
       "      <th>Types of Thyroid Cancer (Pathology)_Micropapillary</th>\n",
       "      <th>Types of Thyroid Cancer (Pathology)_Papillary</th>\n",
       "      <th>Focality_Multi-Focal</th>\n",
       "      <th>Focality_Uni-Focal</th>\n",
       "      <th>Tumor_tumor larger than 1 cm but not larger than 2 cm</th>\n",
       "      <th>Tumor_tumor larger than 2 cm but not larger than 4 cm</th>\n",
       "      <th>Tumor_tumor larger than 4 cm</th>\n",
       "      <th>Tumor_tumor that has grown outside the thyroid</th>\n",
       "      <th>Tumor_tumor that has invaded nearby structures</th>\n",
       "      <th>Tumor_tumor that is 1 cm or smaller</th>\n",
       "      <th>Lymph Nodes_no evidence of regional lymph node metastasis</th>\n",
       "      <th>Lymph Nodes_regional lymph node metastasis in the central  of the neck</th>\n",
       "      <th>Lymph Nodes_regional lymph node metastasis in the lateral of the neck</th>\n",
       "      <th>Cancer Metastasis_no evidence of distant metastasis</th>\n",
       "      <th>Cancer Metastasis_the presence of distant metastasis</th>\n",
       "    </tr>\n",
       "  </thead>\n",
       "  <tbody>\n",
       "    <tr>\n",
       "      <th>0</th>\n",
       "      <td>27</td>\n",
       "      <td>0</td>\n",
       "      <td>0</td>\n",
       "      <td>0</td>\n",
       "      <td>0</td>\n",
       "      <td>2</td>\n",
       "      <td>0</td>\n",
       "      <td>2</td>\n",
       "      <td>0</td>\n",
       "      <td>False</td>\n",
       "      <td>False</td>\n",
       "      <td>True</td>\n",
       "      <td>False</td>\n",
       "      <td>False</td>\n",
       "      <td>False</td>\n",
       "      <td>False</td>\n",
       "      <td>False</td>\n",
       "      <td>True</td>\n",
       "      <td>False</td>\n",
       "      <td>False</td>\n",
       "      <td>False</td>\n",
       "      <td>False</td>\n",
       "      <td>True</td>\n",
       "      <td>False</td>\n",
       "      <td>False</td>\n",
       "      <td>False</td>\n",
       "      <td>False</td>\n",
       "      <td>True</td>\n",
       "      <td>False</td>\n",
       "      <td>False</td>\n",
       "      <td>True</td>\n",
       "      <td>False</td>\n",
       "      <td>False</td>\n",
       "      <td>False</td>\n",
       "      <td>False</td>\n",
       "      <td>False</td>\n",
       "      <td>True</td>\n",
       "      <td>True</td>\n",
       "      <td>False</td>\n",
       "      <td>False</td>\n",
       "      <td>True</td>\n",
       "      <td>False</td>\n",
       "    </tr>\n",
       "    <tr>\n",
       "      <th>1</th>\n",
       "      <td>34</td>\n",
       "      <td>0</td>\n",
       "      <td>0</td>\n",
       "      <td>1</td>\n",
       "      <td>0</td>\n",
       "      <td>2</td>\n",
       "      <td>0</td>\n",
       "      <td>1</td>\n",
       "      <td>0</td>\n",
       "      <td>False</td>\n",
       "      <td>False</td>\n",
       "      <td>True</td>\n",
       "      <td>False</td>\n",
       "      <td>False</td>\n",
       "      <td>False</td>\n",
       "      <td>True</td>\n",
       "      <td>False</td>\n",
       "      <td>False</td>\n",
       "      <td>False</td>\n",
       "      <td>False</td>\n",
       "      <td>False</td>\n",
       "      <td>False</td>\n",
       "      <td>True</td>\n",
       "      <td>False</td>\n",
       "      <td>False</td>\n",
       "      <td>False</td>\n",
       "      <td>False</td>\n",
       "      <td>True</td>\n",
       "      <td>False</td>\n",
       "      <td>False</td>\n",
       "      <td>True</td>\n",
       "      <td>False</td>\n",
       "      <td>False</td>\n",
       "      <td>False</td>\n",
       "      <td>False</td>\n",
       "      <td>False</td>\n",
       "      <td>True</td>\n",
       "      <td>True</td>\n",
       "      <td>False</td>\n",
       "      <td>False</td>\n",
       "      <td>True</td>\n",
       "      <td>False</td>\n",
       "    </tr>\n",
       "    <tr>\n",
       "      <th>2</th>\n",
       "      <td>30</td>\n",
       "      <td>0</td>\n",
       "      <td>0</td>\n",
       "      <td>0</td>\n",
       "      <td>0</td>\n",
       "      <td>2</td>\n",
       "      <td>0</td>\n",
       "      <td>1</td>\n",
       "      <td>0</td>\n",
       "      <td>False</td>\n",
       "      <td>False</td>\n",
       "      <td>True</td>\n",
       "      <td>False</td>\n",
       "      <td>False</td>\n",
       "      <td>False</td>\n",
       "      <td>False</td>\n",
       "      <td>False</td>\n",
       "      <td>False</td>\n",
       "      <td>True</td>\n",
       "      <td>False</td>\n",
       "      <td>False</td>\n",
       "      <td>False</td>\n",
       "      <td>True</td>\n",
       "      <td>False</td>\n",
       "      <td>False</td>\n",
       "      <td>False</td>\n",
       "      <td>False</td>\n",
       "      <td>True</td>\n",
       "      <td>False</td>\n",
       "      <td>False</td>\n",
       "      <td>True</td>\n",
       "      <td>False</td>\n",
       "      <td>False</td>\n",
       "      <td>False</td>\n",
       "      <td>False</td>\n",
       "      <td>False</td>\n",
       "      <td>True</td>\n",
       "      <td>True</td>\n",
       "      <td>False</td>\n",
       "      <td>False</td>\n",
       "      <td>True</td>\n",
       "      <td>False</td>\n",
       "    </tr>\n",
       "    <tr>\n",
       "      <th>3</th>\n",
       "      <td>62</td>\n",
       "      <td>0</td>\n",
       "      <td>0</td>\n",
       "      <td>0</td>\n",
       "      <td>0</td>\n",
       "      <td>2</td>\n",
       "      <td>0</td>\n",
       "      <td>1</td>\n",
       "      <td>0</td>\n",
       "      <td>False</td>\n",
       "      <td>False</td>\n",
       "      <td>True</td>\n",
       "      <td>False</td>\n",
       "      <td>False</td>\n",
       "      <td>False</td>\n",
       "      <td>False</td>\n",
       "      <td>False</td>\n",
       "      <td>False</td>\n",
       "      <td>True</td>\n",
       "      <td>False</td>\n",
       "      <td>False</td>\n",
       "      <td>False</td>\n",
       "      <td>True</td>\n",
       "      <td>False</td>\n",
       "      <td>False</td>\n",
       "      <td>False</td>\n",
       "      <td>False</td>\n",
       "      <td>True</td>\n",
       "      <td>False</td>\n",
       "      <td>False</td>\n",
       "      <td>True</td>\n",
       "      <td>False</td>\n",
       "      <td>False</td>\n",
       "      <td>False</td>\n",
       "      <td>False</td>\n",
       "      <td>False</td>\n",
       "      <td>True</td>\n",
       "      <td>True</td>\n",
       "      <td>False</td>\n",
       "      <td>False</td>\n",
       "      <td>True</td>\n",
       "      <td>False</td>\n",
       "    </tr>\n",
       "    <tr>\n",
       "      <th>4</th>\n",
       "      <td>62</td>\n",
       "      <td>0</td>\n",
       "      <td>0</td>\n",
       "      <td>0</td>\n",
       "      <td>0</td>\n",
       "      <td>2</td>\n",
       "      <td>0</td>\n",
       "      <td>1</td>\n",
       "      <td>0</td>\n",
       "      <td>False</td>\n",
       "      <td>False</td>\n",
       "      <td>True</td>\n",
       "      <td>False</td>\n",
       "      <td>False</td>\n",
       "      <td>False</td>\n",
       "      <td>True</td>\n",
       "      <td>False</td>\n",
       "      <td>False</td>\n",
       "      <td>False</td>\n",
       "      <td>False</td>\n",
       "      <td>False</td>\n",
       "      <td>False</td>\n",
       "      <td>True</td>\n",
       "      <td>False</td>\n",
       "      <td>False</td>\n",
       "      <td>False</td>\n",
       "      <td>False</td>\n",
       "      <td>True</td>\n",
       "      <td>False</td>\n",
       "      <td>True</td>\n",
       "      <td>False</td>\n",
       "      <td>False</td>\n",
       "      <td>False</td>\n",
       "      <td>False</td>\n",
       "      <td>False</td>\n",
       "      <td>False</td>\n",
       "      <td>True</td>\n",
       "      <td>True</td>\n",
       "      <td>False</td>\n",
       "      <td>False</td>\n",
       "      <td>True</td>\n",
       "      <td>False</td>\n",
       "    </tr>\n",
       "  </tbody>\n",
       "</table>\n",
       "</div>"
      ],
      "text/plain": [
       "   Age  Gender  Smoking  Smoking History  Radiotherapy History  Risk  Stage  \\\n",
       "0   27       0        0                0                     0     2      0   \n",
       "1   34       0        0                1                     0     2      0   \n",
       "2   30       0        0                0                     0     2      0   \n",
       "3   62       0        0                0                     0     2      0   \n",
       "4   62       0        0                0                     0     2      0   \n",
       "\n",
       "   Treatment Response  Recurred  Thyroid Function_Clinical Hyperthyroidism  \\\n",
       "0                   2         0                                      False   \n",
       "1                   1         0                                      False   \n",
       "2                   1         0                                      False   \n",
       "3                   1         0                                      False   \n",
       "4                   1         0                                      False   \n",
       "\n",
       "   Thyroid Function_Clinical Hypothyroidism  Thyroid Function_Euthyroid  \\\n",
       "0                                     False                        True   \n",
       "1                                     False                        True   \n",
       "2                                     False                        True   \n",
       "3                                     False                        True   \n",
       "4                                     False                        True   \n",
       "\n",
       "   Thyroid Function_Subclinical Hyperthyroidism  \\\n",
       "0                                         False   \n",
       "1                                         False   \n",
       "2                                         False   \n",
       "3                                         False   \n",
       "4                                         False   \n",
       "\n",
       "   Thyroid Function_Subclinical Hypothyroidism  \\\n",
       "0                                        False   \n",
       "1                                        False   \n",
       "2                                        False   \n",
       "3                                        False   \n",
       "4                                        False   \n",
       "\n",
       "   Physical Examination_Diffuse goiter  \\\n",
       "0                                False   \n",
       "1                                False   \n",
       "2                                False   \n",
       "3                                False   \n",
       "4                                False   \n",
       "\n",
       "   Physical Examination_Multinodular goiter  Physical Examination_Normal  \\\n",
       "0                                     False                        False   \n",
       "1                                      True                        False   \n",
       "2                                     False                        False   \n",
       "3                                     False                        False   \n",
       "4                                      True                        False   \n",
       "\n",
       "   Physical Examination_Single nodular goiter-left  \\\n",
       "0                                             True   \n",
       "1                                            False   \n",
       "2                                            False   \n",
       "3                                            False   \n",
       "4                                            False   \n",
       "\n",
       "   Physical Examination_Single nodular goiter-right  Adenopathy_Bilateral  \\\n",
       "0                                             False                 False   \n",
       "1                                             False                 False   \n",
       "2                                              True                 False   \n",
       "3                                              True                 False   \n",
       "4                                             False                 False   \n",
       "\n",
       "   Adenopathy_Extensive  Adenopathy_Left  Adenopathy_No  Adenopathy_Posterior  \\\n",
       "0                 False            False           True                 False   \n",
       "1                 False            False           True                 False   \n",
       "2                 False            False           True                 False   \n",
       "3                 False            False           True                 False   \n",
       "4                 False            False           True                 False   \n",
       "\n",
       "   Adenopathy_Right  Types of Thyroid Cancer (Pathology)_Follicular  \\\n",
       "0             False                                           False   \n",
       "1             False                                           False   \n",
       "2             False                                           False   \n",
       "3             False                                           False   \n",
       "4             False                                           False   \n",
       "\n",
       "   Types of Thyroid Cancer (Pathology)_Hurthel cell  \\\n",
       "0                                             False   \n",
       "1                                             False   \n",
       "2                                             False   \n",
       "3                                             False   \n",
       "4                                             False   \n",
       "\n",
       "   Types of Thyroid Cancer (Pathology)_Micropapillary  \\\n",
       "0                                               True    \n",
       "1                                               True    \n",
       "2                                               True    \n",
       "3                                               True    \n",
       "4                                               True    \n",
       "\n",
       "   Types of Thyroid Cancer (Pathology)_Papillary  Focality_Multi-Focal  \\\n",
       "0                                          False                 False   \n",
       "1                                          False                 False   \n",
       "2                                          False                 False   \n",
       "3                                          False                 False   \n",
       "4                                          False                  True   \n",
       "\n",
       "   Focality_Uni-Focal  Tumor_tumor larger than 1 cm but not larger than 2 cm  \\\n",
       "0                True                                              False       \n",
       "1                True                                              False       \n",
       "2                True                                              False       \n",
       "3                True                                              False       \n",
       "4               False                                              False       \n",
       "\n",
       "   Tumor_tumor larger than 2 cm but not larger than 4 cm  \\\n",
       "0                                              False       \n",
       "1                                              False       \n",
       "2                                              False       \n",
       "3                                              False       \n",
       "4                                              False       \n",
       "\n",
       "   Tumor_tumor larger than 4 cm  \\\n",
       "0                         False   \n",
       "1                         False   \n",
       "2                         False   \n",
       "3                         False   \n",
       "4                         False   \n",
       "\n",
       "   Tumor_tumor that has grown outside the thyroid  \\\n",
       "0                                           False   \n",
       "1                                           False   \n",
       "2                                           False   \n",
       "3                                           False   \n",
       "4                                           False   \n",
       "\n",
       "   Tumor_tumor that has invaded nearby structures  \\\n",
       "0                                           False   \n",
       "1                                           False   \n",
       "2                                           False   \n",
       "3                                           False   \n",
       "4                                           False   \n",
       "\n",
       "   Tumor_tumor that is 1 cm or smaller  \\\n",
       "0                                 True   \n",
       "1                                 True   \n",
       "2                                 True   \n",
       "3                                 True   \n",
       "4                                 True   \n",
       "\n",
       "   Lymph Nodes_no evidence of regional lymph node metastasis  \\\n",
       "0                                               True           \n",
       "1                                               True           \n",
       "2                                               True           \n",
       "3                                               True           \n",
       "4                                               True           \n",
       "\n",
       "   Lymph Nodes_regional lymph node metastasis in the central  of the neck  \\\n",
       "0                                              False                        \n",
       "1                                              False                        \n",
       "2                                              False                        \n",
       "3                                              False                        \n",
       "4                                              False                        \n",
       "\n",
       "   Lymph Nodes_regional lymph node metastasis in the lateral of the neck  \\\n",
       "0                                              False                       \n",
       "1                                              False                       \n",
       "2                                              False                       \n",
       "3                                              False                       \n",
       "4                                              False                       \n",
       "\n",
       "   Cancer Metastasis_no evidence of distant metastasis  \\\n",
       "0                                               True     \n",
       "1                                               True     \n",
       "2                                               True     \n",
       "3                                               True     \n",
       "4                                               True     \n",
       "\n",
       "   Cancer Metastasis_the presence of distant metastasis  \n",
       "0                                              False     \n",
       "1                                              False     \n",
       "2                                              False     \n",
       "3                                              False     \n",
       "4                                              False     "
      ]
     },
     "execution_count": 17,
     "metadata": {},
     "output_type": "execute_result"
    }
   ],
   "source": [
    "dataset.head()"
   ]
  },
  {
   "cell_type": "code",
   "execution_count": 18,
   "id": "130f005f",
   "metadata": {
    "execution": {
     "iopub.execute_input": "2024-10-21T16:22:06.187339Z",
     "iopub.status.busy": "2024-10-21T16:22:06.186948Z",
     "iopub.status.idle": "2024-10-21T16:22:06.194517Z",
     "shell.execute_reply": "2024-10-21T16:22:06.193509Z"
    },
    "papermill": {
     "duration": 0.035797,
     "end_time": "2024-10-21T16:22:06.196844",
     "exception": false,
     "start_time": "2024-10-21T16:22:06.161047",
     "status": "completed"
    },
    "tags": []
   },
   "outputs": [],
   "source": [
    "X = dataset.drop('Recurred', axis =1).values \n",
    "y = dataset['Recurred'].values"
   ]
  },
  {
   "cell_type": "code",
   "execution_count": 19,
   "id": "bb26be7f",
   "metadata": {
    "execution": {
     "iopub.execute_input": "2024-10-21T16:22:06.246402Z",
     "iopub.status.busy": "2024-10-21T16:22:06.245421Z",
     "iopub.status.idle": "2024-10-21T16:22:06.252412Z",
     "shell.execute_reply": "2024-10-21T16:22:06.251399Z"
    },
    "papermill": {
     "duration": 0.034363,
     "end_time": "2024-10-21T16:22:06.254910",
     "exception": false,
     "start_time": "2024-10-21T16:22:06.220547",
     "status": "completed"
    },
    "tags": []
   },
   "outputs": [
    {
     "data": {
      "text/plain": [
       "array([[27, 0, 0, ..., False, True, False],\n",
       "       [34, 0, 0, ..., False, True, False],\n",
       "       [30, 0, 0, ..., False, True, False],\n",
       "       ...,\n",
       "       [72, 1, 1, ..., False, False, True],\n",
       "       [61, 1, 1, ..., False, True, False],\n",
       "       [67, 1, 1, ..., False, True, False]], dtype=object)"
      ]
     },
     "execution_count": 19,
     "metadata": {},
     "output_type": "execute_result"
    }
   ],
   "source": [
    "X"
   ]
  },
  {
   "cell_type": "code",
   "execution_count": 20,
   "id": "98985ffa",
   "metadata": {
    "execution": {
     "iopub.execute_input": "2024-10-21T16:22:06.302817Z",
     "iopub.status.busy": "2024-10-21T16:22:06.302128Z",
     "iopub.status.idle": "2024-10-21T16:22:06.309782Z",
     "shell.execute_reply": "2024-10-21T16:22:06.308809Z"
    },
    "papermill": {
     "duration": 0.033841,
     "end_time": "2024-10-21T16:22:06.312012",
     "exception": false,
     "start_time": "2024-10-21T16:22:06.278171",
     "status": "completed"
    },
    "tags": []
   },
   "outputs": [
    {
     "data": {
      "text/plain": [
       "array([0, 0, 0, 0, 0, 0, 0, 0, 0, 0, 0, 0, 0, 0, 0, 0, 0, 0, 0, 0, 0, 0,\n",
       "       0, 0, 0, 0, 0, 0, 0, 0, 0, 0, 0, 0, 0, 0, 0, 0, 0, 0, 0, 0, 0, 0,\n",
       "       0, 0, 0, 0, 1, 0, 0, 0, 0, 0, 0, 0, 0, 0, 0, 0, 0, 0, 0, 0, 0, 0,\n",
       "       0, 0, 0, 0, 0, 0, 0, 0, 0, 0, 0, 0, 0, 0, 0, 0, 0, 0, 0, 0, 0, 1,\n",
       "       1, 1, 1, 1, 0, 0, 0, 0, 0, 0, 0, 0, 0, 0, 0, 0, 0, 0, 0, 0, 0, 0,\n",
       "       0, 0, 0, 0, 0, 0, 0, 0, 0, 0, 0, 0, 0, 0, 0, 0, 0, 0, 0, 0, 0, 0,\n",
       "       0, 0, 0, 0, 0, 0, 0, 0, 0, 0, 0, 0, 0, 0, 0, 0, 0, 0, 0, 0, 0, 0,\n",
       "       0, 0, 0, 0, 0, 0, 0, 0, 0, 0, 0, 0, 0, 0, 0, 0, 0, 0, 0, 0, 0, 0,\n",
       "       0, 0, 0, 0, 0, 0, 0, 0, 0, 0, 0, 0, 0, 0, 0, 0, 0, 0, 0, 0, 0, 0,\n",
       "       0, 0, 0, 0, 0, 0, 0, 0, 0, 0, 0, 0, 0, 0, 0, 0, 0, 0, 0, 0, 0, 0,\n",
       "       0, 0, 0, 1, 1, 1, 1, 1, 1, 1, 1, 1, 1, 1, 1, 1, 1, 1, 1, 1, 1, 1,\n",
       "       1, 0, 0, 0, 0, 0, 0, 0, 0, 0, 0, 0, 0, 0, 0, 0, 0, 0, 0, 0, 0, 0,\n",
       "       0, 0, 0, 0, 0, 0, 0, 0, 0, 0, 0, 0, 0, 0, 0, 0, 0, 0, 0, 0, 0, 0,\n",
       "       0, 0, 0, 0, 0, 0, 0, 0, 0, 0, 0, 0, 1, 1, 1, 1, 1, 1, 1, 1, 1, 1,\n",
       "       1, 1, 1, 1, 1, 1, 1, 1, 1, 1, 1, 1, 1, 1, 1, 1, 1, 1, 1, 1, 1, 1,\n",
       "       1, 1, 1, 1, 1, 1, 1, 1, 1, 0, 0, 1, 1, 1, 1, 1, 1, 1, 1, 1, 1, 1,\n",
       "       1, 1, 1, 0, 1, 1, 1, 1, 1, 1, 1, 1, 1, 1, 1, 1, 1, 1, 1, 1, 1, 1,\n",
       "       1, 1, 1, 1, 1, 1, 1, 1, 1])"
      ]
     },
     "execution_count": 20,
     "metadata": {},
     "output_type": "execute_result"
    }
   ],
   "source": [
    "y"
   ]
  },
  {
   "cell_type": "markdown",
   "id": "2de47e7d",
   "metadata": {
    "papermill": {
     "duration": 0.022337,
     "end_time": "2024-10-21T16:22:06.356642",
     "exception": false,
     "start_time": "2024-10-21T16:22:06.334305",
     "status": "completed"
    },
    "tags": []
   },
   "source": [
    "### Splitting the dataset into the Training set and Test set"
   ]
  },
  {
   "cell_type": "code",
   "execution_count": 21,
   "id": "ea6e6206",
   "metadata": {
    "execution": {
     "iopub.execute_input": "2024-10-21T16:22:06.401958Z",
     "iopub.status.busy": "2024-10-21T16:22:06.401307Z",
     "iopub.status.idle": "2024-10-21T16:22:06.498503Z",
     "shell.execute_reply": "2024-10-21T16:22:06.497586Z"
    },
    "papermill": {
     "duration": 0.122628,
     "end_time": "2024-10-21T16:22:06.501203",
     "exception": false,
     "start_time": "2024-10-21T16:22:06.378575",
     "status": "completed"
    },
    "tags": []
   },
   "outputs": [],
   "source": [
    "from sklearn.model_selection import train_test_split\n",
    "X_train, X_test, y_train, y_test = train_test_split( X, y, test_size = 0.25, random_state = 0)"
   ]
  },
  {
   "cell_type": "markdown",
   "id": "8e0e8f3f",
   "metadata": {
    "papermill": {
     "duration": 0.022774,
     "end_time": "2024-10-21T16:22:06.547570",
     "exception": false,
     "start_time": "2024-10-21T16:22:06.524796",
     "status": "completed"
    },
    "tags": []
   },
   "source": [
    "### Feature Scaling"
   ]
  },
  {
   "cell_type": "code",
   "execution_count": 22,
   "id": "d7a8cb1f",
   "metadata": {
    "execution": {
     "iopub.execute_input": "2024-10-21T16:22:06.596547Z",
     "iopub.status.busy": "2024-10-21T16:22:06.595836Z",
     "iopub.status.idle": "2024-10-21T16:22:06.605497Z",
     "shell.execute_reply": "2024-10-21T16:22:06.604383Z"
    },
    "papermill": {
     "duration": 0.037308,
     "end_time": "2024-10-21T16:22:06.607752",
     "exception": false,
     "start_time": "2024-10-21T16:22:06.570444",
     "status": "completed"
    },
    "tags": []
   },
   "outputs": [],
   "source": [
    "from sklearn.preprocessing import StandardScaler\n",
    "sc = StandardScaler()\n",
    "X_train = sc.fit_transform(X_train)\n",
    "X_test = sc.transform(X_test)"
   ]
  },
  {
   "cell_type": "markdown",
   "id": "483c81e0",
   "metadata": {
    "papermill": {
     "duration": 0.022979,
     "end_time": "2024-10-21T16:22:06.654752",
     "exception": false,
     "start_time": "2024-10-21T16:22:06.631773",
     "status": "completed"
    },
    "tags": []
   },
   "source": [
    "## Part 4 - Building the ANN"
   ]
  },
  {
   "cell_type": "markdown",
   "id": "a33e1af5",
   "metadata": {
    "papermill": {
     "duration": 0.023364,
     "end_time": "2024-10-21T16:22:06.701302",
     "exception": false,
     "start_time": "2024-10-21T16:22:06.677938",
     "status": "completed"
    },
    "tags": []
   },
   "source": [
    "### Initializing the ANN"
   ]
  },
  {
   "cell_type": "code",
   "execution_count": 23,
   "id": "3722e69e",
   "metadata": {
    "execution": {
     "iopub.execute_input": "2024-10-21T16:22:06.749740Z",
     "iopub.status.busy": "2024-10-21T16:22:06.749016Z",
     "iopub.status.idle": "2024-10-21T16:22:06.758267Z",
     "shell.execute_reply": "2024-10-21T16:22:06.757233Z"
    },
    "papermill": {
     "duration": 0.03636,
     "end_time": "2024-10-21T16:22:06.760558",
     "exception": false,
     "start_time": "2024-10-21T16:22:06.724198",
     "status": "completed"
    },
    "tags": []
   },
   "outputs": [],
   "source": [
    "ann = tf.keras.models.Sequential()"
   ]
  },
  {
   "cell_type": "markdown",
   "id": "fa162573",
   "metadata": {
    "papermill": {
     "duration": 0.023631,
     "end_time": "2024-10-21T16:22:06.808102",
     "exception": false,
     "start_time": "2024-10-21T16:22:06.784471",
     "status": "completed"
    },
    "tags": []
   },
   "source": [
    "### Adding the input layer and the first hidden layer"
   ]
  },
  {
   "cell_type": "code",
   "execution_count": 24,
   "id": "65f784e1",
   "metadata": {
    "execution": {
     "iopub.execute_input": "2024-10-21T16:22:06.855154Z",
     "iopub.status.busy": "2024-10-21T16:22:06.854745Z",
     "iopub.status.idle": "2024-10-21T16:22:06.861441Z",
     "shell.execute_reply": "2024-10-21T16:22:06.860439Z"
    },
    "papermill": {
     "duration": 0.032504,
     "end_time": "2024-10-21T16:22:06.863603",
     "exception": false,
     "start_time": "2024-10-21T16:22:06.831099",
     "status": "completed"
    },
    "tags": []
   },
   "outputs": [],
   "source": [
    "ann.add(tf.keras.layers.Dense(units = 30, activation = 'relu'))"
   ]
  },
  {
   "cell_type": "markdown",
   "id": "66e0b896",
   "metadata": {
    "papermill": {
     "duration": 0.024829,
     "end_time": "2024-10-21T16:22:06.911113",
     "exception": false,
     "start_time": "2024-10-21T16:22:06.886284",
     "status": "completed"
    },
    "tags": []
   },
   "source": [
    "### Adding the second hidden layer"
   ]
  },
  {
   "cell_type": "code",
   "execution_count": 25,
   "id": "10e416a7",
   "metadata": {
    "execution": {
     "iopub.execute_input": "2024-10-21T16:22:06.961064Z",
     "iopub.status.busy": "2024-10-21T16:22:06.960625Z",
     "iopub.status.idle": "2024-10-21T16:22:06.967130Z",
     "shell.execute_reply": "2024-10-21T16:22:06.966129Z"
    },
    "papermill": {
     "duration": 0.03426,
     "end_time": "2024-10-21T16:22:06.969547",
     "exception": false,
     "start_time": "2024-10-21T16:22:06.935287",
     "status": "completed"
    },
    "tags": []
   },
   "outputs": [],
   "source": [
    "ann.add(tf.keras.layers.Dense(units = 30, activation = 'relu'))"
   ]
  },
  {
   "cell_type": "markdown",
   "id": "e069a1b9",
   "metadata": {
    "papermill": {
     "duration": 0.02436,
     "end_time": "2024-10-21T16:22:07.018606",
     "exception": false,
     "start_time": "2024-10-21T16:22:06.994246",
     "status": "completed"
    },
    "tags": []
   },
   "source": [
    "### Adding the output layer"
   ]
  },
  {
   "cell_type": "code",
   "execution_count": 26,
   "id": "79167204",
   "metadata": {
    "execution": {
     "iopub.execute_input": "2024-10-21T16:22:07.068281Z",
     "iopub.status.busy": "2024-10-21T16:22:07.067837Z",
     "iopub.status.idle": "2024-10-21T16:22:07.074350Z",
     "shell.execute_reply": "2024-10-21T16:22:07.073173Z"
    },
    "papermill": {
     "duration": 0.033973,
     "end_time": "2024-10-21T16:22:07.076750",
     "exception": false,
     "start_time": "2024-10-21T16:22:07.042777",
     "status": "completed"
    },
    "tags": []
   },
   "outputs": [],
   "source": [
    "ann.add(tf.keras.layers.Dense(units = 1, activation = 'sigmoid')) "
   ]
  },
  {
   "cell_type": "markdown",
   "id": "5313d11e",
   "metadata": {
    "papermill": {
     "duration": 0.023281,
     "end_time": "2024-10-21T16:22:07.123736",
     "exception": false,
     "start_time": "2024-10-21T16:22:07.100455",
     "status": "completed"
    },
    "tags": []
   },
   "source": [
    "## Part 5 - Training the ANN"
   ]
  },
  {
   "cell_type": "markdown",
   "id": "3b1f7f5c",
   "metadata": {
    "papermill": {
     "duration": 0.024325,
     "end_time": "2024-10-21T16:22:07.173071",
     "exception": false,
     "start_time": "2024-10-21T16:22:07.148746",
     "status": "completed"
    },
    "tags": []
   },
   "source": [
    "### Compiling the ANN"
   ]
  },
  {
   "cell_type": "code",
   "execution_count": 27,
   "id": "0ec96e95",
   "metadata": {
    "execution": {
     "iopub.execute_input": "2024-10-21T16:22:07.223538Z",
     "iopub.status.busy": "2024-10-21T16:22:07.223126Z",
     "iopub.status.idle": "2024-10-21T16:22:07.263753Z",
     "shell.execute_reply": "2024-10-21T16:22:07.262324Z"
    },
    "papermill": {
     "duration": 0.069188,
     "end_time": "2024-10-21T16:22:07.266412",
     "exception": false,
     "start_time": "2024-10-21T16:22:07.197224",
     "status": "completed"
    },
    "tags": []
   },
   "outputs": [],
   "source": [
    "ann.compile(optimizer = 'adam', loss = 'binary_crossentropy', metrics = ['accuracy'])"
   ]
  },
  {
   "cell_type": "markdown",
   "id": "91fcc666",
   "metadata": {
    "papermill": {
     "duration": 0.028533,
     "end_time": "2024-10-21T16:22:07.319317",
     "exception": false,
     "start_time": "2024-10-21T16:22:07.290784",
     "status": "completed"
    },
    "tags": []
   },
   "source": [
    "### Training the ANN on the Training set"
   ]
  },
  {
   "cell_type": "code",
   "execution_count": 28,
   "id": "f34cfc25",
   "metadata": {
    "execution": {
     "iopub.execute_input": "2024-10-21T16:22:07.376032Z",
     "iopub.status.busy": "2024-10-21T16:22:07.374985Z",
     "iopub.status.idle": "2024-10-21T16:22:10.000416Z",
     "shell.execute_reply": "2024-10-21T16:22:09.999325Z"
    },
    "papermill": {
     "duration": 2.65321,
     "end_time": "2024-10-21T16:22:10.002554",
     "exception": false,
     "start_time": "2024-10-21T16:22:07.349344",
     "status": "completed"
    },
    "tags": []
   },
   "outputs": [
    {
     "name": "stdout",
     "output_type": "stream",
     "text": [
      "Epoch 1/30\n",
      "\u001b[1m9/9\u001b[0m \u001b[32m━━━━━━━━━━━━━━━━━━━━\u001b[0m\u001b[37m\u001b[0m \u001b[1m1s\u001b[0m 2ms/step - accuracy: 0.4756 - loss: 0.7263\n",
      "Epoch 2/30\n",
      "\u001b[1m9/9\u001b[0m \u001b[32m━━━━━━━━━━━━━━━━━━━━\u001b[0m\u001b[37m\u001b[0m \u001b[1m0s\u001b[0m 2ms/step - accuracy: 0.7288 - loss: 0.5982 \n",
      "Epoch 3/30\n",
      "\u001b[1m9/9\u001b[0m \u001b[32m━━━━━━━━━━━━━━━━━━━━\u001b[0m\u001b[37m\u001b[0m \u001b[1m0s\u001b[0m 2ms/step - accuracy: 0.8280 - loss: 0.5272 \n",
      "Epoch 4/30\n",
      "\u001b[1m9/9\u001b[0m \u001b[32m━━━━━━━━━━━━━━━━━━━━\u001b[0m\u001b[37m\u001b[0m \u001b[1m0s\u001b[0m 2ms/step - accuracy: 0.8538 - loss: 0.4374 \n",
      "Epoch 5/30\n",
      "\u001b[1m9/9\u001b[0m \u001b[32m━━━━━━━━━━━━━━━━━━━━\u001b[0m\u001b[37m\u001b[0m \u001b[1m0s\u001b[0m 2ms/step - accuracy: 0.8698 - loss: 0.3885 \n",
      "Epoch 6/30\n",
      "\u001b[1m9/9\u001b[0m \u001b[32m━━━━━━━━━━━━━━━━━━━━\u001b[0m\u001b[37m\u001b[0m \u001b[1m0s\u001b[0m 2ms/step - accuracy: 0.8727 - loss: 0.3327 \n",
      "Epoch 7/30\n",
      "\u001b[1m9/9\u001b[0m \u001b[32m━━━━━━━━━━━━━━━━━━━━\u001b[0m\u001b[37m\u001b[0m \u001b[1m0s\u001b[0m 2ms/step - accuracy: 0.8788 - loss: 0.2918 \n",
      "Epoch 8/30\n",
      "\u001b[1m9/9\u001b[0m \u001b[32m━━━━━━━━━━━━━━━━━━━━\u001b[0m\u001b[37m\u001b[0m \u001b[1m0s\u001b[0m 2ms/step - accuracy: 0.8979 - loss: 0.2689 \n",
      "Epoch 9/30\n",
      "\u001b[1m9/9\u001b[0m \u001b[32m━━━━━━━━━━━━━━━━━━━━\u001b[0m\u001b[37m\u001b[0m \u001b[1m0s\u001b[0m 2ms/step - accuracy: 0.8966 - loss: 0.2421 \n",
      "Epoch 10/30\n",
      "\u001b[1m9/9\u001b[0m \u001b[32m━━━━━━━━━━━━━━━━━━━━\u001b[0m\u001b[37m\u001b[0m \u001b[1m0s\u001b[0m 2ms/step - accuracy: 0.9035 - loss: 0.2410 \n",
      "Epoch 11/30\n",
      "\u001b[1m9/9\u001b[0m \u001b[32m━━━━━━━━━━━━━━━━━━━━\u001b[0m\u001b[37m\u001b[0m \u001b[1m0s\u001b[0m 2ms/step - accuracy: 0.9252 - loss: 0.2021 \n",
      "Epoch 12/30\n",
      "\u001b[1m9/9\u001b[0m \u001b[32m━━━━━━━━━━━━━━━━━━━━\u001b[0m\u001b[37m\u001b[0m \u001b[1m0s\u001b[0m 2ms/step - accuracy: 0.9119 - loss: 0.2065 \n",
      "Epoch 13/30\n",
      "\u001b[1m9/9\u001b[0m \u001b[32m━━━━━━━━━━━━━━━━━━━━\u001b[0m\u001b[37m\u001b[0m \u001b[1m0s\u001b[0m 2ms/step - accuracy: 0.9197 - loss: 0.2036 \n",
      "Epoch 14/30\n",
      "\u001b[1m9/9\u001b[0m \u001b[32m━━━━━━━━━━━━━━━━━━━━\u001b[0m\u001b[37m\u001b[0m \u001b[1m0s\u001b[0m 2ms/step - accuracy: 0.9368 - loss: 0.1644 \n",
      "Epoch 15/30\n",
      "\u001b[1m9/9\u001b[0m \u001b[32m━━━━━━━━━━━━━━━━━━━━\u001b[0m\u001b[37m\u001b[0m \u001b[1m0s\u001b[0m 2ms/step - accuracy: 0.9327 - loss: 0.1715 \n",
      "Epoch 16/30\n",
      "\u001b[1m9/9\u001b[0m \u001b[32m━━━━━━━━━━━━━━━━━━━━\u001b[0m\u001b[37m\u001b[0m \u001b[1m0s\u001b[0m 2ms/step - accuracy: 0.9155 - loss: 0.1873 \n",
      "Epoch 17/30\n",
      "\u001b[1m9/9\u001b[0m \u001b[32m━━━━━━━━━━━━━━━━━━━━\u001b[0m\u001b[37m\u001b[0m \u001b[1m0s\u001b[0m 2ms/step - accuracy: 0.9481 - loss: 0.1427 \n",
      "Epoch 18/30\n",
      "\u001b[1m9/9\u001b[0m \u001b[32m━━━━━━━━━━━━━━━━━━━━\u001b[0m\u001b[37m\u001b[0m \u001b[1m0s\u001b[0m 2ms/step - accuracy: 0.9263 - loss: 0.1744 \n",
      "Epoch 19/30\n",
      "\u001b[1m9/9\u001b[0m \u001b[32m━━━━━━━━━━━━━━━━━━━━\u001b[0m\u001b[37m\u001b[0m \u001b[1m0s\u001b[0m 2ms/step - accuracy: 0.9301 - loss: 0.1542 \n",
      "Epoch 20/30\n",
      "\u001b[1m9/9\u001b[0m \u001b[32m━━━━━━━━━━━━━━━━━━━━\u001b[0m\u001b[37m\u001b[0m \u001b[1m0s\u001b[0m 2ms/step - accuracy: 0.9321 - loss: 0.1698 \n",
      "Epoch 21/30\n",
      "\u001b[1m9/9\u001b[0m \u001b[32m━━━━━━━━━━━━━━━━━━━━\u001b[0m\u001b[37m\u001b[0m \u001b[1m0s\u001b[0m 2ms/step - accuracy: 0.9611 - loss: 0.1438 \n",
      "Epoch 22/30\n",
      "\u001b[1m9/9\u001b[0m \u001b[32m━━━━━━━━━━━━━━━━━━━━\u001b[0m\u001b[37m\u001b[0m \u001b[1m0s\u001b[0m 2ms/step - accuracy: 0.9537 - loss: 0.1383 \n",
      "Epoch 23/30\n",
      "\u001b[1m9/9\u001b[0m \u001b[32m━━━━━━━━━━━━━━━━━━━━\u001b[0m\u001b[37m\u001b[0m \u001b[1m0s\u001b[0m 2ms/step - accuracy: 0.9699 - loss: 0.1118 \n",
      "Epoch 24/30\n",
      "\u001b[1m9/9\u001b[0m \u001b[32m━━━━━━━━━━━━━━━━━━━━\u001b[0m\u001b[37m\u001b[0m \u001b[1m0s\u001b[0m 2ms/step - accuracy: 0.9618 - loss: 0.1298 \n",
      "Epoch 25/30\n",
      "\u001b[1m9/9\u001b[0m \u001b[32m━━━━━━━━━━━━━━━━━━━━\u001b[0m\u001b[37m\u001b[0m \u001b[1m0s\u001b[0m 2ms/step - accuracy: 0.9654 - loss: 0.1167 \n",
      "Epoch 26/30\n",
      "\u001b[1m9/9\u001b[0m \u001b[32m━━━━━━━━━━━━━━━━━━━━\u001b[0m\u001b[37m\u001b[0m \u001b[1m0s\u001b[0m 2ms/step - accuracy: 0.9773 - loss: 0.1206 \n",
      "Epoch 27/30\n",
      "\u001b[1m9/9\u001b[0m \u001b[32m━━━━━━━━━━━━━━━━━━━━\u001b[0m\u001b[37m\u001b[0m \u001b[1m0s\u001b[0m 2ms/step - accuracy: 0.9693 - loss: 0.1281 \n",
      "Epoch 28/30\n",
      "\u001b[1m9/9\u001b[0m \u001b[32m━━━━━━━━━━━━━━━━━━━━\u001b[0m\u001b[37m\u001b[0m \u001b[1m0s\u001b[0m 2ms/step - accuracy: 0.9799 - loss: 0.1031 \n",
      "Epoch 29/30\n",
      "\u001b[1m9/9\u001b[0m \u001b[32m━━━━━━━━━━━━━━━━━━━━\u001b[0m\u001b[37m\u001b[0m \u001b[1m0s\u001b[0m 2ms/step - accuracy: 0.9894 - loss: 0.0858 \n",
      "Epoch 30/30\n",
      "\u001b[1m9/9\u001b[0m \u001b[32m━━━━━━━━━━━━━━━━━━━━\u001b[0m\u001b[37m\u001b[0m \u001b[1m0s\u001b[0m 2ms/step - accuracy: 0.9721 - loss: 0.1099 \n"
     ]
    },
    {
     "data": {
      "text/plain": [
       "<keras.src.callbacks.history.History at 0x7a5631ff0580>"
      ]
     },
     "execution_count": 28,
     "metadata": {},
     "output_type": "execute_result"
    }
   ],
   "source": [
    "ann.fit(X_train, y_train, batch_size = 32, epochs = 30)"
   ]
  },
  {
   "cell_type": "markdown",
   "id": "9e24fb9f",
   "metadata": {
    "papermill": {
     "duration": 0.030508,
     "end_time": "2024-10-21T16:22:10.064315",
     "exception": false,
     "start_time": "2024-10-21T16:22:10.033807",
     "status": "completed"
    },
    "tags": []
   },
   "source": [
    "## Part 6 - Making the predictions and evaluating the model"
   ]
  },
  {
   "cell_type": "markdown",
   "id": "ec1f6a30",
   "metadata": {
    "papermill": {
     "duration": 0.031122,
     "end_time": "2024-10-21T16:22:10.126267",
     "exception": false,
     "start_time": "2024-10-21T16:22:10.095145",
     "status": "completed"
    },
    "tags": []
   },
   "source": [
    "### Predicting the Test set results"
   ]
  },
  {
   "cell_type": "code",
   "execution_count": 29,
   "id": "765c8f91",
   "metadata": {
    "execution": {
     "iopub.execute_input": "2024-10-21T16:22:10.191691Z",
     "iopub.status.busy": "2024-10-21T16:22:10.191303Z",
     "iopub.status.idle": "2024-10-21T16:22:10.306784Z",
     "shell.execute_reply": "2024-10-21T16:22:10.305134Z"
    },
    "papermill": {
     "duration": 0.152732,
     "end_time": "2024-10-21T16:22:10.309195",
     "exception": false,
     "start_time": "2024-10-21T16:22:10.156463",
     "status": "completed"
    },
    "tags": []
   },
   "outputs": [
    {
     "name": "stdout",
     "output_type": "stream",
     "text": [
      "\u001b[1m3/3\u001b[0m \u001b[32m━━━━━━━━━━━━━━━━━━━━\u001b[0m\u001b[37m\u001b[0m \u001b[1m0s\u001b[0m 2ms/step \n",
      "[[1 0]\n",
      " [0 0]\n",
      " [0 0]\n",
      " [0 0]\n",
      " [0 0]\n",
      " [1 1]\n",
      " [1 1]\n",
      " [0 0]\n",
      " [0 0]\n",
      " [1 0]\n",
      " [1 1]\n",
      " [1 1]\n",
      " [0 1]\n",
      " [0 0]\n",
      " [0 0]\n",
      " [0 0]\n",
      " [1 1]\n",
      " [0 0]\n",
      " [1 1]\n",
      " [1 1]\n",
      " [1 1]\n",
      " [0 0]\n",
      " [1 1]\n",
      " [0 0]\n",
      " [0 0]\n",
      " [0 1]\n",
      " [1 1]\n",
      " [0 0]\n",
      " [1 1]\n",
      " [1 1]\n",
      " [1 1]\n",
      " [1 1]\n",
      " [0 0]\n",
      " [0 0]\n",
      " [0 0]\n",
      " [1 1]\n",
      " [0 0]\n",
      " [1 1]\n",
      " [0 0]\n",
      " [0 0]\n",
      " [1 1]\n",
      " [0 0]\n",
      " [0 0]\n",
      " [0 0]\n",
      " [0 0]\n",
      " [0 0]\n",
      " [0 0]\n",
      " [0 0]\n",
      " [0 0]\n",
      " [0 0]\n",
      " [0 0]\n",
      " [1 1]\n",
      " [0 0]\n",
      " [0 0]\n",
      " [0 0]\n",
      " [0 0]\n",
      " [0 0]\n",
      " [0 0]\n",
      " [0 1]\n",
      " [1 1]\n",
      " [0 0]\n",
      " [0 0]\n",
      " [0 0]\n",
      " [0 0]\n",
      " [1 1]\n",
      " [0 0]\n",
      " [0 0]\n",
      " [0 0]\n",
      " [0 0]\n",
      " [0 0]\n",
      " [0 0]\n",
      " [1 1]\n",
      " [0 0]\n",
      " [0 0]\n",
      " [1 1]\n",
      " [1 1]\n",
      " [0 0]\n",
      " [0 0]\n",
      " [0 0]\n",
      " [0 0]\n",
      " [0 0]\n",
      " [0 0]\n",
      " [0 0]\n",
      " [0 0]\n",
      " [0 1]\n",
      " [0 0]\n",
      " [1 1]\n",
      " [0 0]\n",
      " [0 0]\n",
      " [1 1]\n",
      " [0 0]\n",
      " [1 1]\n",
      " [0 0]\n",
      " [0 0]\n",
      " [0 0]\n",
      " [0 0]]\n"
     ]
    }
   ],
   "source": [
    "y_pred = ann.predict(X_test)\n",
    "y_pred = (y_pred > 0.5)\n",
    "print(np.concatenate((y_pred.reshape(len(y_pred),1),y_test.reshape(len(y_test),1)),1))"
   ]
  },
  {
   "cell_type": "markdown",
   "id": "29f299c1",
   "metadata": {
    "papermill": {
     "duration": 0.032831,
     "end_time": "2024-10-21T16:22:10.375533",
     "exception": false,
     "start_time": "2024-10-21T16:22:10.342702",
     "status": "completed"
    },
    "tags": []
   },
   "source": [
    "### Making the Confusion Matrix"
   ]
  },
  {
   "cell_type": "code",
   "execution_count": 30,
   "id": "632081cd",
   "metadata": {
    "execution": {
     "iopub.execute_input": "2024-10-21T16:22:10.443346Z",
     "iopub.status.busy": "2024-10-21T16:22:10.442601Z",
     "iopub.status.idle": "2024-10-21T16:22:10.454198Z",
     "shell.execute_reply": "2024-10-21T16:22:10.453097Z"
    },
    "papermill": {
     "duration": 0.04803,
     "end_time": "2024-10-21T16:22:10.456645",
     "exception": false,
     "start_time": "2024-10-21T16:22:10.408615",
     "status": "completed"
    },
    "tags": []
   },
   "outputs": [
    {
     "name": "stdout",
     "output_type": "stream",
     "text": [
      "[[64  2]\n",
      " [ 4 26]]\n"
     ]
    },
    {
     "data": {
      "text/plain": [
       "0.9375"
      ]
     },
     "execution_count": 30,
     "metadata": {},
     "output_type": "execute_result"
    }
   ],
   "source": [
    "from sklearn.metrics import confusion_matrix, accuracy_score\n",
    "cm = confusion_matrix(y_test, y_pred)\n",
    "print(cm)\n",
    "accuracy_score(y_test, y_pred)"
   ]
  },
  {
   "cell_type": "markdown",
   "id": "ab3f5113",
   "metadata": {
    "papermill": {
     "duration": 0.032724,
     "end_time": "2024-10-21T16:22:10.522687",
     "exception": false,
     "start_time": "2024-10-21T16:22:10.489963",
     "status": "completed"
    },
    "tags": []
   },
   "source": [
    "### Predicting the result of a single observation"
   ]
  },
  {
   "cell_type": "markdown",
   "id": "94a76c72",
   "metadata": {
    "papermill": {
     "duration": 0.033253,
     "end_time": "2024-10-21T16:22:10.589209",
     "exception": false,
     "start_time": "2024-10-21T16:22:10.555956",
     "status": "completed"
    },
    "tags": []
   },
   "source": [
    "**Here I'm gonna Predict a single observation from dataset to see how much our Neural Network is efficient**"
   ]
  },
  {
   "cell_type": "code",
   "execution_count": 31,
   "id": "43842129",
   "metadata": {
    "execution": {
     "iopub.execute_input": "2024-10-21T16:22:10.657336Z",
     "iopub.status.busy": "2024-10-21T16:22:10.656966Z",
     "iopub.status.idle": "2024-10-21T16:22:10.661510Z",
     "shell.execute_reply": "2024-10-21T16:22:10.660494Z"
    },
    "papermill": {
     "duration": 0.04128,
     "end_time": "2024-10-21T16:22:10.663701",
     "exception": false,
     "start_time": "2024-10-21T16:22:10.622421",
     "status": "completed"
    },
    "tags": []
   },
   "outputs": [],
   "source": [
    "# dataset.head(1) # I'm gonna take first row as a single observation"
   ]
  },
  {
   "cell_type": "code",
   "execution_count": 32,
   "id": "affd4a42",
   "metadata": {
    "execution": {
     "iopub.execute_input": "2024-10-21T16:22:10.730342Z",
     "iopub.status.busy": "2024-10-21T16:22:10.729450Z",
     "iopub.status.idle": "2024-10-21T16:22:10.735058Z",
     "shell.execute_reply": "2024-10-21T16:22:10.734092Z"
    },
    "papermill": {
     "duration": 0.040845,
     "end_time": "2024-10-21T16:22:10.737231",
     "exception": false,
     "start_time": "2024-10-21T16:22:10.696386",
     "status": "completed"
    },
    "tags": []
   },
   "outputs": [
    {
     "name": "stdout",
     "output_type": "stream",
     "text": [
      "[27 0 0 0 0 2 0 2 False False True False False False False False True\n",
      " False False False False True False False False False True False False\n",
      " True False False False False False True True False False True False]\n"
     ]
    }
   ],
   "source": [
    "print(X[0])"
   ]
  },
  {
   "cell_type": "code",
   "execution_count": 33,
   "id": "5068a7ec",
   "metadata": {
    "execution": {
     "iopub.execute_input": "2024-10-21T16:22:10.806722Z",
     "iopub.status.busy": "2024-10-21T16:22:10.806360Z",
     "iopub.status.idle": "2024-10-21T16:22:10.811487Z",
     "shell.execute_reply": "2024-10-21T16:22:10.810464Z"
    },
    "papermill": {
     "duration": 0.045074,
     "end_time": "2024-10-21T16:22:10.814287",
     "exception": false,
     "start_time": "2024-10-21T16:22:10.769213",
     "status": "completed"
    },
    "tags": []
   },
   "outputs": [
    {
     "name": "stdout",
     "output_type": "stream",
     "text": [
      "0\n"
     ]
    }
   ],
   "source": [
    "print(y[0])"
   ]
  },
  {
   "cell_type": "code",
   "execution_count": 34,
   "id": "bed0b843",
   "metadata": {
    "execution": {
     "iopub.execute_input": "2024-10-21T16:22:10.880760Z",
     "iopub.status.busy": "2024-10-21T16:22:10.879993Z",
     "iopub.status.idle": "2024-10-21T16:22:11.003112Z",
     "shell.execute_reply": "2024-10-21T16:22:11.001648Z"
    },
    "papermill": {
     "duration": 0.158547,
     "end_time": "2024-10-21T16:22:11.005618",
     "exception": false,
     "start_time": "2024-10-21T16:22:10.847071",
     "status": "completed"
    },
    "tags": []
   },
   "outputs": [
    {
     "name": "stdout",
     "output_type": "stream",
     "text": [
      "\u001b[1m1/1\u001b[0m \u001b[32m━━━━━━━━━━━━━━━━━━━━\u001b[0m\u001b[37m\u001b[0m \u001b[1m0s\u001b[0m 61ms/step\n",
      "[[False]]\n"
     ]
    }
   ],
   "source": [
    "print(ann.predict(sc.transform([[27, 0, 0, 0, 0, 2, 0 ,2, False, False ,True ,False, False, False ,False ,False ,True,\n",
    " False, False ,False ,False ,True ,False ,False ,False, False ,True, False, False,\n",
    " True ,False ,False ,False, False, False ,True ,True ,False ,False ,True, False]])) > 0.5)"
   ]
  },
  {
   "cell_type": "markdown",
   "id": "8d3a5b26",
   "metadata": {
    "papermill": {
     "duration": 0.032167,
     "end_time": "2024-10-21T16:22:11.077104",
     "exception": false,
     "start_time": "2024-10-21T16:22:11.044937",
     "status": "completed"
    },
    "tags": []
   },
   "source": [
    "**Here as we can see that the Neural Network has perfectly predicted the result**"
   ]
  }
 ],
 "metadata": {
  "kaggle": {
   "accelerator": "none",
   "dataSources": [
    {
     "datasetId": 4979752,
     "sourceId": 8375315,
     "sourceType": "datasetVersion"
    }
   ],
   "dockerImageVersionId": 30698,
   "isGpuEnabled": false,
   "isInternetEnabled": false,
   "language": "python",
   "sourceType": "notebook"
  },
  "kernelspec": {
   "display_name": "Python 3",
   "language": "python",
   "name": "python3"
  },
  "language_info": {
   "codemirror_mode": {
    "name": "ipython",
    "version": 3
   },
   "file_extension": ".py",
   "mimetype": "text/x-python",
   "name": "python",
   "nbconvert_exporter": "python",
   "pygments_lexer": "ipython3",
   "version": "3.10.13"
  },
  "papermill": {
   "default_parameters": {},
   "duration": 28.343328,
   "end_time": "2024-10-21T16:22:12.533798",
   "environment_variables": {},
   "exception": null,
   "input_path": "__notebook__.ipynb",
   "output_path": "__notebook__.ipynb",
   "parameters": {},
   "start_time": "2024-10-21T16:21:44.190470",
   "version": "2.5.0"
  }
 },
 "nbformat": 4,
 "nbformat_minor": 5
}
